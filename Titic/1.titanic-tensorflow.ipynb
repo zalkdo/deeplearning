{
 "cells": [
  {
   "cell_type": "markdown",
   "metadata": {
    "colab_type": "text",
    "id": "aDmFHTw5_y9j"
   },
   "source": [
    "# Titanic: Machine Learning from Disaster\n",
    "\n",
    "https://www.kaggle.com/c/titanic\n"
   ]
  },
  {
   "cell_type": "code",
   "execution_count": 1,
   "metadata": {
    "colab": {
     "autoexec": {
      "startup": false,
      "wait_interval": 0
     },
     "base_uri": "https://localhost:8080/",
     "height": 35,
     "output_extras": [
      {
       "item_id": 1
      }
     ]
    },
    "colab_type": "code",
    "executionInfo": {
     "elapsed": 1486,
     "status": "ok",
     "timestamp": 1520231741559,
     "user": {
      "displayName": "이경희",
      "photoUrl": "https://lh3.googleusercontent.com/a/default-user=s128",
      "userId": "108801979825041190430"
     },
     "user_tz": -540
    },
    "id": "rMH2qsk7_ut2",
    "outputId": "d72f52b7-595d-4551-9a80-37e6404ade97"
   },
   "outputs": [
    {
     "data": {
      "text/plain": [
       "'/device:GPU:0'"
      ]
     },
     "execution_count": 1,
     "metadata": {
      "tags": []
     },
     "output_type": "execute_result"
    }
   ],
   "source": [
    "import pandas as pd\n",
    "import numpy as np\n",
    "import tensorflow as tf\n",
    "tf.test.gpu_device_name()"
   ]
  },
  {
   "cell_type": "markdown",
   "metadata": {
    "colab_type": "text",
    "id": "67fQeVlC_zYa"
   },
   "source": [
    "## Load Dataset"
   ]
  },
  {
   "cell_type": "code",
   "execution_count": 0,
   "metadata": {
    "colab": {
     "autoexec": {
      "startup": false,
      "wait_interval": 0
     }
    },
    "colab_type": "code",
    "id": "hNX9_WhwA_Ms"
   },
   "outputs": [],
   "source": [
    "# Code to read csv file into colaboratory:\n",
    "!pip install -U -q PyDrive\n",
    " \n",
    "from pydrive.auth import GoogleAuth\n",
    "from pydrive.drive import GoogleDrive\n",
    "from google.colab import auth\n",
    "from oauth2client.client import GoogleCredentials\n",
    " \n",
    "# 1. Authenticate and create the PyDrive client.\n",
    "auth.authenticate_user()\n",
    "gauth = GoogleAuth()\n",
    "gauth.credentials = GoogleCredentials.get_application_default()\n",
    "drive = GoogleDrive(gauth)"
   ]
  },
  {
   "cell_type": "code",
   "execution_count": 3,
   "metadata": {
    "colab": {
     "autoexec": {
      "startup": false,
      "wait_interval": 0
     },
     "base_uri": "https://localhost:8080/",
     "height": 53,
     "output_extras": [
      {
       "item_id": 1
      }
     ]
    },
    "colab_type": "code",
    "executionInfo": {
     "elapsed": 741,
     "status": "ok",
     "timestamp": 1520231749274,
     "user": {
      "displayName": "이경희",
      "photoUrl": "https://lh3.googleusercontent.com/a/default-user=s128",
      "userId": "108801979825041190430"
     },
     "user_tz": -540
    },
    "id": "vFC1DtAgLqJv",
    "outputId": "24661cf6-bd4f-4dfe-dd37-a1c1900a8b4f"
   },
   "outputs": [
    {
     "name": "stdout",
     "output_type": "stream",
     "text": [
      "title: train.csv, id: 1vD6LWZJkYZ6RJvpDq8ZkU0xhBMBXgz-u\n",
      "title: test.csv, id: 1Vl06bTerImNMpoYc3zKY_9dvE3Ksf3Ss\n"
     ]
    }
   ],
   "source": [
    "# 2. Get the file info in the folder \n",
    "# file_list = drive.ListFile({'q': \"'<FOLDER ID>' in parents and trashed=false\"}).GetList()\n",
    "file_list = drive.ListFile({'q': \"'1ETeRvrK-KspSRVPeHdKqKAXJ1tGJ_TFd' in parents and trashed=false\"}).GetList()\n",
    "for file1 in file_list:\n",
    "  print('title: %s, id: %s' % (file1['title'], file1['id']))"
   ]
  },
  {
   "cell_type": "code",
   "execution_count": 0,
   "metadata": {
    "colab": {
     "autoexec": {
      "startup": false,
      "wait_interval": 0
     }
    },
    "colab_type": "code",
    "id": "C0F4AGjaBBuK"
   },
   "outputs": [],
   "source": [
    "#3. Get the file\n",
    "# downloaded = drive.CreateFile({'id':'<FILE_ID>'})\n",
    "# downloaded.GetContentFile('<FILE_TITLE>')\n",
    "\n",
    "train_downloaded = drive.CreateFile({'id':'1vD6LWZJkYZ6RJvpDq8ZkU0xhBMBXgz-u'})\n",
    "train_downloaded.GetContentFile('train.csv') \n",
    "\n",
    "test_downloaded = drive.CreateFile({'id':'1Vl06bTerImNMpoYc3zKY_9dvE3Ksf3Ss'})\n",
    "test_downloaded.GetContentFile('test.csv') "
   ]
  },
  {
   "cell_type": "code",
   "execution_count": 5,
   "metadata": {
    "colab": {
     "autoexec": {
      "startup": false,
      "wait_interval": 0
     },
     "base_uri": "https://localhost:8080/",
     "height": 527,
     "output_extras": [
      {
       "item_id": 1
      }
     ]
    },
    "colab_type": "code",
    "executionInfo": {
     "elapsed": 466,
     "status": "ok",
     "timestamp": 1520231751343,
     "user": {
      "displayName": "이경희",
      "photoUrl": "https://lh3.googleusercontent.com/a/default-user=s128",
      "userId": "108801979825041190430"
     },
     "user_tz": -540
    },
    "id": "j-4aFLao_q0_",
    "outputId": "e54fde2b-d798-4be4-f710-fa43a0b0eb21"
   },
   "outputs": [
    {
     "data": {
      "text/html": [
       "<div>\n",
       "<style scoped>\n",
       "    .dataframe tbody tr th:only-of-type {\n",
       "        vertical-align: middle;\n",
       "    }\n",
       "\n",
       "    .dataframe tbody tr th {\n",
       "        vertical-align: top;\n",
       "    }\n",
       "\n",
       "    .dataframe thead th {\n",
       "        text-align: right;\n",
       "    }\n",
       "</style>\n",
       "<table border=\"1\" class=\"dataframe\">\n",
       "  <thead>\n",
       "    <tr style=\"text-align: right;\">\n",
       "      <th></th>\n",
       "      <th>Survived</th>\n",
       "      <th>Pclass</th>\n",
       "      <th>Name</th>\n",
       "      <th>Sex</th>\n",
       "      <th>Age</th>\n",
       "      <th>SibSp</th>\n",
       "      <th>Parch</th>\n",
       "      <th>Ticket</th>\n",
       "      <th>Fare</th>\n",
       "      <th>Cabin</th>\n",
       "      <th>Embarked</th>\n",
       "    </tr>\n",
       "    <tr>\n",
       "      <th>PassengerId</th>\n",
       "      <th></th>\n",
       "      <th></th>\n",
       "      <th></th>\n",
       "      <th></th>\n",
       "      <th></th>\n",
       "      <th></th>\n",
       "      <th></th>\n",
       "      <th></th>\n",
       "      <th></th>\n",
       "      <th></th>\n",
       "      <th></th>\n",
       "    </tr>\n",
       "  </thead>\n",
       "  <tbody>\n",
       "    <tr>\n",
       "      <th>1</th>\n",
       "      <td>0</td>\n",
       "      <td>3</td>\n",
       "      <td>Braund, Mr. Owen Harris</td>\n",
       "      <td>male</td>\n",
       "      <td>22.0</td>\n",
       "      <td>1</td>\n",
       "      <td>0</td>\n",
       "      <td>A/5 21171</td>\n",
       "      <td>7.2500</td>\n",
       "      <td>NaN</td>\n",
       "      <td>S</td>\n",
       "    </tr>\n",
       "    <tr>\n",
       "      <th>2</th>\n",
       "      <td>1</td>\n",
       "      <td>1</td>\n",
       "      <td>Cumings, Mrs. John Bradley (Florence Briggs Th...</td>\n",
       "      <td>female</td>\n",
       "      <td>38.0</td>\n",
       "      <td>1</td>\n",
       "      <td>0</td>\n",
       "      <td>PC 17599</td>\n",
       "      <td>71.2833</td>\n",
       "      <td>C85</td>\n",
       "      <td>C</td>\n",
       "    </tr>\n",
       "    <tr>\n",
       "      <th>3</th>\n",
       "      <td>1</td>\n",
       "      <td>3</td>\n",
       "      <td>Heikkinen, Miss. Laina</td>\n",
       "      <td>female</td>\n",
       "      <td>26.0</td>\n",
       "      <td>0</td>\n",
       "      <td>0</td>\n",
       "      <td>STON/O2. 3101282</td>\n",
       "      <td>7.9250</td>\n",
       "      <td>NaN</td>\n",
       "      <td>S</td>\n",
       "    </tr>\n",
       "    <tr>\n",
       "      <th>4</th>\n",
       "      <td>1</td>\n",
       "      <td>1</td>\n",
       "      <td>Futrelle, Mrs. Jacques Heath (Lily May Peel)</td>\n",
       "      <td>female</td>\n",
       "      <td>35.0</td>\n",
       "      <td>1</td>\n",
       "      <td>0</td>\n",
       "      <td>113803</td>\n",
       "      <td>53.1000</td>\n",
       "      <td>C123</td>\n",
       "      <td>S</td>\n",
       "    </tr>\n",
       "    <tr>\n",
       "      <th>5</th>\n",
       "      <td>0</td>\n",
       "      <td>3</td>\n",
       "      <td>Allen, Mr. William Henry</td>\n",
       "      <td>male</td>\n",
       "      <td>35.0</td>\n",
       "      <td>0</td>\n",
       "      <td>0</td>\n",
       "      <td>373450</td>\n",
       "      <td>8.0500</td>\n",
       "      <td>NaN</td>\n",
       "      <td>S</td>\n",
       "    </tr>\n",
       "  </tbody>\n",
       "</table>\n",
       "</div>"
      ],
      "text/plain": [
       "             Survived  Pclass  \\\n",
       "PassengerId                     \n",
       "1                   0       3   \n",
       "2                   1       1   \n",
       "3                   1       3   \n",
       "4                   1       1   \n",
       "5                   0       3   \n",
       "\n",
       "                                                          Name     Sex   Age  \\\n",
       "PassengerId                                                                    \n",
       "1                                      Braund, Mr. Owen Harris    male  22.0   \n",
       "2            Cumings, Mrs. John Bradley (Florence Briggs Th...  female  38.0   \n",
       "3                                       Heikkinen, Miss. Laina  female  26.0   \n",
       "4                 Futrelle, Mrs. Jacques Heath (Lily May Peel)  female  35.0   \n",
       "5                                     Allen, Mr. William Henry    male  35.0   \n",
       "\n",
       "             SibSp  Parch            Ticket     Fare Cabin Embarked  \n",
       "PassengerId                                                          \n",
       "1                1      0         A/5 21171   7.2500   NaN        S  \n",
       "2                1      0          PC 17599  71.2833   C85        C  \n",
       "3                0      0  STON/O2. 3101282   7.9250   NaN        S  \n",
       "4                1      0            113803  53.1000  C123        S  \n",
       "5                0      0            373450   8.0500   NaN        S  "
      ]
     },
     "execution_count": 5,
     "metadata": {
      "tags": []
     },
     "output_type": "execute_result"
    }
   ],
   "source": [
    "train = pd.read_csv(\"train.csv\", index_col=[\"PassengerId\"])\n",
    "train.head()"
   ]
  },
  {
   "cell_type": "code",
   "execution_count": 6,
   "metadata": {
    "colab": {
     "autoexec": {
      "startup": false,
      "wait_interval": 0
     },
     "base_uri": "https://localhost:8080/",
     "height": 456,
     "output_extras": [
      {
       "item_id": 1
      }
     ]
    },
    "colab_type": "code",
    "executionInfo": {
     "elapsed": 477,
     "status": "ok",
     "timestamp": 1520231751944,
     "user": {
      "displayName": "이경희",
      "photoUrl": "https://lh3.googleusercontent.com/a/default-user=s128",
      "userId": "108801979825041190430"
     },
     "user_tz": -540
    },
    "id": "mkO2857B_3AD",
    "outputId": "33670a39-6abc-4802-9438-dee2432cc7de"
   },
   "outputs": [
    {
     "data": {
      "text/html": [
       "<div>\n",
       "<style scoped>\n",
       "    .dataframe tbody tr th:only-of-type {\n",
       "        vertical-align: middle;\n",
       "    }\n",
       "\n",
       "    .dataframe tbody tr th {\n",
       "        vertical-align: top;\n",
       "    }\n",
       "\n",
       "    .dataframe thead th {\n",
       "        text-align: right;\n",
       "    }\n",
       "</style>\n",
       "<table border=\"1\" class=\"dataframe\">\n",
       "  <thead>\n",
       "    <tr style=\"text-align: right;\">\n",
       "      <th></th>\n",
       "      <th>Pclass</th>\n",
       "      <th>Name</th>\n",
       "      <th>Sex</th>\n",
       "      <th>Age</th>\n",
       "      <th>SibSp</th>\n",
       "      <th>Parch</th>\n",
       "      <th>Ticket</th>\n",
       "      <th>Fare</th>\n",
       "      <th>Cabin</th>\n",
       "      <th>Embarked</th>\n",
       "    </tr>\n",
       "    <tr>\n",
       "      <th>PassengerId</th>\n",
       "      <th></th>\n",
       "      <th></th>\n",
       "      <th></th>\n",
       "      <th></th>\n",
       "      <th></th>\n",
       "      <th></th>\n",
       "      <th></th>\n",
       "      <th></th>\n",
       "      <th></th>\n",
       "      <th></th>\n",
       "    </tr>\n",
       "  </thead>\n",
       "  <tbody>\n",
       "    <tr>\n",
       "      <th>892</th>\n",
       "      <td>3</td>\n",
       "      <td>Kelly, Mr. James</td>\n",
       "      <td>male</td>\n",
       "      <td>34.5</td>\n",
       "      <td>0</td>\n",
       "      <td>0</td>\n",
       "      <td>330911</td>\n",
       "      <td>7.8292</td>\n",
       "      <td>NaN</td>\n",
       "      <td>Q</td>\n",
       "    </tr>\n",
       "    <tr>\n",
       "      <th>893</th>\n",
       "      <td>3</td>\n",
       "      <td>Wilkes, Mrs. James (Ellen Needs)</td>\n",
       "      <td>female</td>\n",
       "      <td>47.0</td>\n",
       "      <td>1</td>\n",
       "      <td>0</td>\n",
       "      <td>363272</td>\n",
       "      <td>7.0000</td>\n",
       "      <td>NaN</td>\n",
       "      <td>S</td>\n",
       "    </tr>\n",
       "    <tr>\n",
       "      <th>894</th>\n",
       "      <td>2</td>\n",
       "      <td>Myles, Mr. Thomas Francis</td>\n",
       "      <td>male</td>\n",
       "      <td>62.0</td>\n",
       "      <td>0</td>\n",
       "      <td>0</td>\n",
       "      <td>240276</td>\n",
       "      <td>9.6875</td>\n",
       "      <td>NaN</td>\n",
       "      <td>Q</td>\n",
       "    </tr>\n",
       "    <tr>\n",
       "      <th>895</th>\n",
       "      <td>3</td>\n",
       "      <td>Wirz, Mr. Albert</td>\n",
       "      <td>male</td>\n",
       "      <td>27.0</td>\n",
       "      <td>0</td>\n",
       "      <td>0</td>\n",
       "      <td>315154</td>\n",
       "      <td>8.6625</td>\n",
       "      <td>NaN</td>\n",
       "      <td>S</td>\n",
       "    </tr>\n",
       "    <tr>\n",
       "      <th>896</th>\n",
       "      <td>3</td>\n",
       "      <td>Hirvonen, Mrs. Alexander (Helga E Lindqvist)</td>\n",
       "      <td>female</td>\n",
       "      <td>22.0</td>\n",
       "      <td>1</td>\n",
       "      <td>1</td>\n",
       "      <td>3101298</td>\n",
       "      <td>12.2875</td>\n",
       "      <td>NaN</td>\n",
       "      <td>S</td>\n",
       "    </tr>\n",
       "  </tbody>\n",
       "</table>\n",
       "</div>"
      ],
      "text/plain": [
       "             Pclass                                          Name     Sex  \\\n",
       "PassengerId                                                                 \n",
       "892               3                              Kelly, Mr. James    male   \n",
       "893               3              Wilkes, Mrs. James (Ellen Needs)  female   \n",
       "894               2                     Myles, Mr. Thomas Francis    male   \n",
       "895               3                              Wirz, Mr. Albert    male   \n",
       "896               3  Hirvonen, Mrs. Alexander (Helga E Lindqvist)  female   \n",
       "\n",
       "              Age  SibSp  Parch   Ticket     Fare Cabin Embarked  \n",
       "PassengerId                                                       \n",
       "892          34.5      0      0   330911   7.8292   NaN        Q  \n",
       "893          47.0      1      0   363272   7.0000   NaN        S  \n",
       "894          62.0      0      0   240276   9.6875   NaN        Q  \n",
       "895          27.0      0      0   315154   8.6625   NaN        S  \n",
       "896          22.0      1      1  3101298  12.2875   NaN        S  "
      ]
     },
     "execution_count": 6,
     "metadata": {
      "tags": []
     },
     "output_type": "execute_result"
    }
   ],
   "source": [
    "test = pd.read_csv(\"test.csv\", index_col=[\"PassengerId\"])\n",
    "test.head()"
   ]
  },
  {
   "cell_type": "markdown",
   "metadata": {
    "colab_type": "text",
    "id": "lVwAkRUsNQag"
   },
   "source": [
    "## Missing data"
   ]
  },
  {
   "cell_type": "code",
   "execution_count": 7,
   "metadata": {
    "colab": {
     "autoexec": {
      "startup": false,
      "wait_interval": 0
     },
     "base_uri": "https://localhost:8080/",
     "height": 233,
     "output_extras": [
      {
       "item_id": 1
      }
     ]
    },
    "colab_type": "code",
    "executionInfo": {
     "elapsed": 482,
     "status": "ok",
     "timestamp": 1520231752546,
     "user": {
      "displayName": "이경희",
      "photoUrl": "https://lh3.googleusercontent.com/a/default-user=s128",
      "userId": "108801979825041190430"
     },
     "user_tz": -540
    },
    "id": "mB-3ZzSWNJr8",
    "outputId": "3a787606-e37d-4977-a999-267088d8474a"
   },
   "outputs": [
    {
     "data": {
      "text/plain": [
       "Survived      0\n",
       "Pclass        0\n",
       "Name          0\n",
       "Sex           0\n",
       "Age         177\n",
       "SibSp         0\n",
       "Parch         0\n",
       "Ticket        0\n",
       "Fare          0\n",
       "Cabin       687\n",
       "Embarked      2\n",
       "dtype: int64"
      ]
     },
     "execution_count": 7,
     "metadata": {
      "tags": []
     },
     "output_type": "execute_result"
    }
   ],
   "source": [
    "train.isnull().sum()"
   ]
  },
  {
   "cell_type": "code",
   "execution_count": 8,
   "metadata": {
    "colab": {
     "autoexec": {
      "startup": false,
      "wait_interval": 0
     },
     "base_uri": "https://localhost:8080/",
     "height": 215,
     "output_extras": [
      {
       "item_id": 1
      }
     ]
    },
    "colab_type": "code",
    "executionInfo": {
     "elapsed": 461,
     "status": "ok",
     "timestamp": 1520231753130,
     "user": {
      "displayName": "이경희",
      "photoUrl": "https://lh3.googleusercontent.com/a/default-user=s128",
      "userId": "108801979825041190430"
     },
     "user_tz": -540
    },
    "id": "mRoDZl8RNU8W",
    "outputId": "c5b3787e-1d9c-4827-c65d-68f84baefb62"
   },
   "outputs": [
    {
     "data": {
      "text/plain": [
       "Pclass        0\n",
       "Name          0\n",
       "Sex           0\n",
       "Age          86\n",
       "SibSp         0\n",
       "Parch         0\n",
       "Ticket        0\n",
       "Fare          1\n",
       "Cabin       327\n",
       "Embarked      0\n",
       "dtype: int64"
      ]
     },
     "execution_count": 8,
     "metadata": {
      "tags": []
     },
     "output_type": "execute_result"
    }
   ],
   "source": [
    "test.isnull().sum()"
   ]
  },
  {
   "cell_type": "code",
   "execution_count": 9,
   "metadata": {
    "colab": {
     "autoexec": {
      "startup": false,
      "wait_interval": 0
     },
     "base_uri": "https://localhost:8080/",
     "height": 527,
     "output_extras": [
      {
       "item_id": 1
      }
     ]
    },
    "colab_type": "code",
    "executionInfo": {
     "elapsed": 468,
     "status": "ok",
     "timestamp": 1520231753740,
     "user": {
      "displayName": "이경희",
      "photoUrl": "https://lh3.googleusercontent.com/a/default-user=s128",
      "userId": "108801979825041190430"
     },
     "user_tz": -540
    },
    "id": "HHzqDDABNXYA",
    "outputId": "dd62f923-cf46-4a9a-b4d5-30080775be6f"
   },
   "outputs": [
    {
     "data": {
      "text/html": [
       "<div>\n",
       "<style scoped>\n",
       "    .dataframe tbody tr th:only-of-type {\n",
       "        vertical-align: middle;\n",
       "    }\n",
       "\n",
       "    .dataframe tbody tr th {\n",
       "        vertical-align: top;\n",
       "    }\n",
       "\n",
       "    .dataframe thead th {\n",
       "        text-align: right;\n",
       "    }\n",
       "</style>\n",
       "<table border=\"1\" class=\"dataframe\">\n",
       "  <thead>\n",
       "    <tr style=\"text-align: right;\">\n",
       "      <th></th>\n",
       "      <th>Age</th>\n",
       "      <th>Cabin</th>\n",
       "      <th>Embarked</th>\n",
       "      <th>Fare</th>\n",
       "      <th>Name</th>\n",
       "      <th>Parch</th>\n",
       "      <th>Pclass</th>\n",
       "      <th>Sex</th>\n",
       "      <th>SibSp</th>\n",
       "      <th>Survived</th>\n",
       "      <th>Ticket</th>\n",
       "    </tr>\n",
       "    <tr>\n",
       "      <th>PassengerId</th>\n",
       "      <th></th>\n",
       "      <th></th>\n",
       "      <th></th>\n",
       "      <th></th>\n",
       "      <th></th>\n",
       "      <th></th>\n",
       "      <th></th>\n",
       "      <th></th>\n",
       "      <th></th>\n",
       "      <th></th>\n",
       "      <th></th>\n",
       "    </tr>\n",
       "  </thead>\n",
       "  <tbody>\n",
       "    <tr>\n",
       "      <th>1</th>\n",
       "      <td>22.0</td>\n",
       "      <td>NaN</td>\n",
       "      <td>S</td>\n",
       "      <td>7.2500</td>\n",
       "      <td>Braund, Mr. Owen Harris</td>\n",
       "      <td>0</td>\n",
       "      <td>3</td>\n",
       "      <td>male</td>\n",
       "      <td>1</td>\n",
       "      <td>0.0</td>\n",
       "      <td>A/5 21171</td>\n",
       "    </tr>\n",
       "    <tr>\n",
       "      <th>2</th>\n",
       "      <td>38.0</td>\n",
       "      <td>C85</td>\n",
       "      <td>C</td>\n",
       "      <td>71.2833</td>\n",
       "      <td>Cumings, Mrs. John Bradley (Florence Briggs Th...</td>\n",
       "      <td>0</td>\n",
       "      <td>1</td>\n",
       "      <td>female</td>\n",
       "      <td>1</td>\n",
       "      <td>1.0</td>\n",
       "      <td>PC 17599</td>\n",
       "    </tr>\n",
       "    <tr>\n",
       "      <th>3</th>\n",
       "      <td>26.0</td>\n",
       "      <td>NaN</td>\n",
       "      <td>S</td>\n",
       "      <td>7.9250</td>\n",
       "      <td>Heikkinen, Miss. Laina</td>\n",
       "      <td>0</td>\n",
       "      <td>3</td>\n",
       "      <td>female</td>\n",
       "      <td>0</td>\n",
       "      <td>1.0</td>\n",
       "      <td>STON/O2. 3101282</td>\n",
       "    </tr>\n",
       "    <tr>\n",
       "      <th>4</th>\n",
       "      <td>35.0</td>\n",
       "      <td>C123</td>\n",
       "      <td>S</td>\n",
       "      <td>53.1000</td>\n",
       "      <td>Futrelle, Mrs. Jacques Heath (Lily May Peel)</td>\n",
       "      <td>0</td>\n",
       "      <td>1</td>\n",
       "      <td>female</td>\n",
       "      <td>1</td>\n",
       "      <td>1.0</td>\n",
       "      <td>113803</td>\n",
       "    </tr>\n",
       "    <tr>\n",
       "      <th>5</th>\n",
       "      <td>35.0</td>\n",
       "      <td>NaN</td>\n",
       "      <td>S</td>\n",
       "      <td>8.0500</td>\n",
       "      <td>Allen, Mr. William Henry</td>\n",
       "      <td>0</td>\n",
       "      <td>3</td>\n",
       "      <td>male</td>\n",
       "      <td>0</td>\n",
       "      <td>0.0</td>\n",
       "      <td>373450</td>\n",
       "    </tr>\n",
       "  </tbody>\n",
       "</table>\n",
       "</div>"
      ],
      "text/plain": [
       "              Age Cabin Embarked     Fare  \\\n",
       "PassengerId                                 \n",
       "1            22.0   NaN        S   7.2500   \n",
       "2            38.0   C85        C  71.2833   \n",
       "3            26.0   NaN        S   7.9250   \n",
       "4            35.0  C123        S  53.1000   \n",
       "5            35.0   NaN        S   8.0500   \n",
       "\n",
       "                                                          Name  Parch  Pclass  \\\n",
       "PassengerId                                                                     \n",
       "1                                      Braund, Mr. Owen Harris      0       3   \n",
       "2            Cumings, Mrs. John Bradley (Florence Briggs Th...      0       1   \n",
       "3                                       Heikkinen, Miss. Laina      0       3   \n",
       "4                 Futrelle, Mrs. Jacques Heath (Lily May Peel)      0       1   \n",
       "5                                     Allen, Mr. William Henry      0       3   \n",
       "\n",
       "                Sex  SibSp  Survived            Ticket  \n",
       "PassengerId                                             \n",
       "1              male      1       0.0         A/5 21171  \n",
       "2            female      1       1.0          PC 17599  \n",
       "3            female      0       1.0  STON/O2. 3101282  \n",
       "4            female      1       1.0            113803  \n",
       "5              male      0       0.0            373450  "
      ]
     },
     "execution_count": 9,
     "metadata": {
      "tags": []
     },
     "output_type": "execute_result"
    }
   ],
   "source": [
    "all_data = pd.concat([train, test])\n",
    "all_data.head()"
   ]
  },
  {
   "cell_type": "markdown",
   "metadata": {
    "colab_type": "text",
    "id": "h8oTvA6GNf7Z"
   },
   "source": [
    "### 1) Embarked"
   ]
  },
  {
   "cell_type": "code",
   "execution_count": 10,
   "metadata": {
    "colab": {
     "autoexec": {
      "startup": false,
      "wait_interval": 0
     },
     "base_uri": "https://localhost:8080/",
     "height": 281,
     "output_extras": [
      {
       "item_id": 1
      }
     ]
    },
    "colab_type": "code",
    "executionInfo": {
     "elapsed": 509,
     "status": "ok",
     "timestamp": 1520231754372,
     "user": {
      "displayName": "이경희",
      "photoUrl": "https://lh3.googleusercontent.com/a/default-user=s128",
      "userId": "108801979825041190430"
     },
     "user_tz": -540
    },
    "id": "dAyJFLEYNZLs",
    "outputId": "3f87e894-c3ce-4e13-d9f3-ee032c6568a2"
   },
   "outputs": [
    {
     "data": {
      "text/html": [
       "<div>\n",
       "<style scoped>\n",
       "    .dataframe tbody tr th:only-of-type {\n",
       "        vertical-align: middle;\n",
       "    }\n",
       "\n",
       "    .dataframe tbody tr th {\n",
       "        vertical-align: top;\n",
       "    }\n",
       "\n",
       "    .dataframe thead th {\n",
       "        text-align: right;\n",
       "    }\n",
       "</style>\n",
       "<table border=\"1\" class=\"dataframe\">\n",
       "  <thead>\n",
       "    <tr style=\"text-align: right;\">\n",
       "      <th></th>\n",
       "      <th>Survived</th>\n",
       "      <th>Pclass</th>\n",
       "      <th>Name</th>\n",
       "      <th>Sex</th>\n",
       "      <th>Age</th>\n",
       "      <th>SibSp</th>\n",
       "      <th>Parch</th>\n",
       "      <th>Ticket</th>\n",
       "      <th>Fare</th>\n",
       "      <th>Cabin</th>\n",
       "      <th>Embarked</th>\n",
       "    </tr>\n",
       "    <tr>\n",
       "      <th>PassengerId</th>\n",
       "      <th></th>\n",
       "      <th></th>\n",
       "      <th></th>\n",
       "      <th></th>\n",
       "      <th></th>\n",
       "      <th></th>\n",
       "      <th></th>\n",
       "      <th></th>\n",
       "      <th></th>\n",
       "      <th></th>\n",
       "      <th></th>\n",
       "    </tr>\n",
       "  </thead>\n",
       "  <tbody>\n",
       "    <tr>\n",
       "      <th>62</th>\n",
       "      <td>1</td>\n",
       "      <td>1</td>\n",
       "      <td>Icard, Miss. Amelie</td>\n",
       "      <td>female</td>\n",
       "      <td>38.0</td>\n",
       "      <td>0</td>\n",
       "      <td>0</td>\n",
       "      <td>113572</td>\n",
       "      <td>80.0</td>\n",
       "      <td>B28</td>\n",
       "      <td>NaN</td>\n",
       "    </tr>\n",
       "    <tr>\n",
       "      <th>830</th>\n",
       "      <td>1</td>\n",
       "      <td>1</td>\n",
       "      <td>Stone, Mrs. George Nelson (Martha Evelyn)</td>\n",
       "      <td>female</td>\n",
       "      <td>62.0</td>\n",
       "      <td>0</td>\n",
       "      <td>0</td>\n",
       "      <td>113572</td>\n",
       "      <td>80.0</td>\n",
       "      <td>B28</td>\n",
       "      <td>NaN</td>\n",
       "    </tr>\n",
       "  </tbody>\n",
       "</table>\n",
       "</div>"
      ],
      "text/plain": [
       "             Survived  Pclass                                       Name  \\\n",
       "PassengerId                                                                \n",
       "62                  1       1                        Icard, Miss. Amelie   \n",
       "830                 1       1  Stone, Mrs. George Nelson (Martha Evelyn)   \n",
       "\n",
       "                Sex   Age  SibSp  Parch  Ticket  Fare Cabin Embarked  \n",
       "PassengerId                                                           \n",
       "62           female  38.0      0      0  113572  80.0   B28      NaN  \n",
       "830          female  62.0      0      0  113572  80.0   B28      NaN  "
      ]
     },
     "execution_count": 10,
     "metadata": {
      "tags": []
     },
     "output_type": "execute_result"
    }
   ],
   "source": [
    "train[train[\"Embarked\"].isnull()]"
   ]
  },
  {
   "cell_type": "code",
   "execution_count": 11,
   "metadata": {
    "colab": {
     "autoexec": {
      "startup": false,
      "wait_interval": 0
     },
     "base_uri": "https://localhost:8080/",
     "height": 193,
     "output_extras": [
      {
       "item_id": 1
      }
     ]
    },
    "colab_type": "code",
    "executionInfo": {
     "elapsed": 550,
     "status": "ok",
     "timestamp": 1520231755040,
     "user": {
      "displayName": "이경희",
      "photoUrl": "https://lh3.googleusercontent.com/a/default-user=s128",
      "userId": "108801979825041190430"
     },
     "user_tz": -540
    },
    "id": "uuHpD3kDNioz",
    "outputId": "bf7c6f7a-ea39-4b40-aed9-f7ffbe4582cf"
   },
   "outputs": [
    {
     "data": {
      "text/html": [
       "<div>\n",
       "<style scoped>\n",
       "    .dataframe tbody tr th:only-of-type {\n",
       "        vertical-align: middle;\n",
       "    }\n",
       "\n",
       "    .dataframe tbody tr th {\n",
       "        vertical-align: top;\n",
       "    }\n",
       "\n",
       "    .dataframe thead tr th {\n",
       "        text-align: left;\n",
       "    }\n",
       "\n",
       "    .dataframe thead tr:last-of-type th {\n",
       "        text-align: right;\n",
       "    }\n",
       "</style>\n",
       "<table border=\"1\" class=\"dataframe\">\n",
       "  <thead>\n",
       "    <tr>\n",
       "      <th></th>\n",
       "      <th colspan=\"2\" halign=\"left\">Age</th>\n",
       "      <th colspan=\"2\" halign=\"left\">Fare</th>\n",
       "      <th colspan=\"2\" halign=\"left\">Parch</th>\n",
       "      <th colspan=\"2\" halign=\"left\">Pclass</th>\n",
       "      <th colspan=\"2\" halign=\"left\">SibSp</th>\n",
       "      <th colspan=\"2\" halign=\"left\">Survived</th>\n",
       "    </tr>\n",
       "    <tr>\n",
       "      <th></th>\n",
       "      <th>mean</th>\n",
       "      <th>count</th>\n",
       "      <th>mean</th>\n",
       "      <th>count</th>\n",
       "      <th>mean</th>\n",
       "      <th>count</th>\n",
       "      <th>mean</th>\n",
       "      <th>count</th>\n",
       "      <th>mean</th>\n",
       "      <th>count</th>\n",
       "      <th>mean</th>\n",
       "      <th>count</th>\n",
       "    </tr>\n",
       "    <tr>\n",
       "      <th>Embarked</th>\n",
       "      <th></th>\n",
       "      <th></th>\n",
       "      <th></th>\n",
       "      <th></th>\n",
       "      <th></th>\n",
       "      <th></th>\n",
       "      <th></th>\n",
       "      <th></th>\n",
       "      <th></th>\n",
       "      <th></th>\n",
       "      <th></th>\n",
       "      <th></th>\n",
       "    </tr>\n",
       "  </thead>\n",
       "  <tbody>\n",
       "    <tr>\n",
       "      <th>C</th>\n",
       "      <td>44.478261</td>\n",
       "      <td>23</td>\n",
       "      <td>79.151168</td>\n",
       "      <td>25</td>\n",
       "      <td>0.320000</td>\n",
       "      <td>25</td>\n",
       "      <td>1</td>\n",
       "      <td>25</td>\n",
       "      <td>0.480000</td>\n",
       "      <td>25</td>\n",
       "      <td>0.812500</td>\n",
       "      <td>16</td>\n",
       "    </tr>\n",
       "    <tr>\n",
       "      <th>S</th>\n",
       "      <td>38.611111</td>\n",
       "      <td>18</td>\n",
       "      <td>80.056011</td>\n",
       "      <td>18</td>\n",
       "      <td>0.555556</td>\n",
       "      <td>18</td>\n",
       "      <td>1</td>\n",
       "      <td>18</td>\n",
       "      <td>0.666667</td>\n",
       "      <td>18</td>\n",
       "      <td>0.615385</td>\n",
       "      <td>13</td>\n",
       "    </tr>\n",
       "  </tbody>\n",
       "</table>\n",
       "</div>"
      ],
      "text/plain": [
       "                Age             Fare           Parch       Pclass        \\\n",
       "               mean count       mean count      mean count   mean count   \n",
       "Embarked                                                                  \n",
       "C         44.478261    23  79.151168    25  0.320000    25      1    25   \n",
       "S         38.611111    18  80.056011    18  0.555556    18      1    18   \n",
       "\n",
       "             SibSp        Survived        \n",
       "              mean count      mean count  \n",
       "Embarked                                  \n",
       "C         0.480000    25  0.812500    16  \n",
       "S         0.666667    18  0.615385    13  "
      ]
     },
     "execution_count": 11,
     "metadata": {
      "tags": []
     },
     "output_type": "execute_result"
    }
   ],
   "source": [
    "# 1등석이고 요금이 75이상 85인 데이터의 탑승지\n",
    "all_data[(all_data[\"Pclass\"] == 1) & (all_data[\"Fare\"] > 75) & (all_data[\"Fare\"] < 85)].groupby(\"Embarked\").agg(['mean', 'count'])"
   ]
  },
  {
   "cell_type": "code",
   "execution_count": 12,
   "metadata": {
    "colab": {
     "autoexec": {
      "startup": false,
      "wait_interval": 0
     },
     "base_uri": "https://localhost:8080/",
     "height": 233,
     "output_extras": [
      {
       "item_id": 1
      }
     ]
    },
    "colab_type": "code",
    "executionInfo": {
     "elapsed": 468,
     "status": "ok",
     "timestamp": 1520231755633,
     "user": {
      "displayName": "이경희",
      "photoUrl": "https://lh3.googleusercontent.com/a/default-user=s128",
      "userId": "108801979825041190430"
     },
     "user_tz": -540
    },
    "id": "CsB8t6mqNlRJ",
    "outputId": "3944b599-59db-4cad-d4f1-3571b4370669"
   },
   "outputs": [
    {
     "data": {
      "text/plain": [
       "Survived      0\n",
       "Pclass        0\n",
       "Name          0\n",
       "Sex           0\n",
       "Age         177\n",
       "SibSp         0\n",
       "Parch         0\n",
       "Ticket        0\n",
       "Fare          0\n",
       "Cabin       687\n",
       "Embarked      0\n",
       "dtype: int64"
      ]
     },
     "execution_count": 12,
     "metadata": {
      "tags": []
     },
     "output_type": "execute_result"
    }
   ],
   "source": [
    "train[\"Embarked\"] = train[\"Embarked\"].fillna(\"C\")\n",
    "train.isnull().sum()"
   ]
  },
  {
   "cell_type": "markdown",
   "metadata": {
    "colab_type": "text",
    "id": "R_jzUNsaNqfj"
   },
   "source": [
    "### 2) Fare"
   ]
  },
  {
   "cell_type": "code",
   "execution_count": 13,
   "metadata": {
    "colab": {
     "autoexec": {
      "startup": false,
      "wait_interval": 0
     },
     "base_uri": "https://localhost:8080/",
     "height": 128,
     "output_extras": [
      {
       "item_id": 1
      }
     ]
    },
    "colab_type": "code",
    "executionInfo": {
     "elapsed": 503,
     "status": "ok",
     "timestamp": 1520231756262,
     "user": {
      "displayName": "이경희",
      "photoUrl": "https://lh3.googleusercontent.com/a/default-user=s128",
      "userId": "108801979825041190430"
     },
     "user_tz": -540
    },
    "id": "YO4LQKcNNnQU",
    "outputId": "d0968255-c032-4a77-aee6-11c3de50df87"
   },
   "outputs": [
    {
     "data": {
      "text/html": [
       "<div>\n",
       "<style scoped>\n",
       "    .dataframe tbody tr th:only-of-type {\n",
       "        vertical-align: middle;\n",
       "    }\n",
       "\n",
       "    .dataframe tbody tr th {\n",
       "        vertical-align: top;\n",
       "    }\n",
       "\n",
       "    .dataframe thead th {\n",
       "        text-align: right;\n",
       "    }\n",
       "</style>\n",
       "<table border=\"1\" class=\"dataframe\">\n",
       "  <thead>\n",
       "    <tr style=\"text-align: right;\">\n",
       "      <th></th>\n",
       "      <th>Pclass</th>\n",
       "      <th>Name</th>\n",
       "      <th>Sex</th>\n",
       "      <th>Age</th>\n",
       "      <th>SibSp</th>\n",
       "      <th>Parch</th>\n",
       "      <th>Ticket</th>\n",
       "      <th>Fare</th>\n",
       "      <th>Cabin</th>\n",
       "      <th>Embarked</th>\n",
       "    </tr>\n",
       "    <tr>\n",
       "      <th>PassengerId</th>\n",
       "      <th></th>\n",
       "      <th></th>\n",
       "      <th></th>\n",
       "      <th></th>\n",
       "      <th></th>\n",
       "      <th></th>\n",
       "      <th></th>\n",
       "      <th></th>\n",
       "      <th></th>\n",
       "      <th></th>\n",
       "    </tr>\n",
       "  </thead>\n",
       "  <tbody>\n",
       "    <tr>\n",
       "      <th>1044</th>\n",
       "      <td>3</td>\n",
       "      <td>Storey, Mr. Thomas</td>\n",
       "      <td>male</td>\n",
       "      <td>60.5</td>\n",
       "      <td>0</td>\n",
       "      <td>0</td>\n",
       "      <td>3701</td>\n",
       "      <td>NaN</td>\n",
       "      <td>NaN</td>\n",
       "      <td>S</td>\n",
       "    </tr>\n",
       "  </tbody>\n",
       "</table>\n",
       "</div>"
      ],
      "text/plain": [
       "             Pclass                Name   Sex   Age  SibSp  Parch Ticket  \\\n",
       "PassengerId                                                                \n",
       "1044              3  Storey, Mr. Thomas  male  60.5      0      0   3701   \n",
       "\n",
       "             Fare Cabin Embarked  \n",
       "PassengerId                       \n",
       "1044          NaN   NaN        S  "
      ]
     },
     "execution_count": 13,
     "metadata": {
      "tags": []
     },
     "output_type": "execute_result"
    }
   ],
   "source": [
    "test[test[\"Fare\"].isnull()]"
   ]
  },
  {
   "cell_type": "code",
   "execution_count": 14,
   "metadata": {
    "colab": {
     "autoexec": {
      "startup": false,
      "wait_interval": 0
     },
     "base_uri": "https://localhost:8080/",
     "height": 215,
     "output_extras": [
      {
       "item_id": 1
      }
     ]
    },
    "colab_type": "code",
    "executionInfo": {
     "elapsed": 473,
     "status": "ok",
     "timestamp": 1520231756847,
     "user": {
      "displayName": "이경희",
      "photoUrl": "https://lh3.googleusercontent.com/a/default-user=s128",
      "userId": "108801979825041190430"
     },
     "user_tz": -540
    },
    "id": "vz0jGvgqNsdN",
    "outputId": "adda4989-b3fd-4144-e527-62e79f8c24f0"
   },
   "outputs": [
    {
     "data": {
      "text/plain": [
       "Pclass        0\n",
       "Name          0\n",
       "Sex           0\n",
       "Age          86\n",
       "SibSp         0\n",
       "Parch         0\n",
       "Ticket        0\n",
       "Fare          0\n",
       "Cabin       327\n",
       "Embarked      0\n",
       "dtype: int64"
      ]
     },
     "execution_count": 14,
     "metadata": {
      "tags": []
     },
     "output_type": "execute_result"
    }
   ],
   "source": [
    "# 3등석이고 탑승지가 S인 요금 평균\n",
    "mean_fare = all_data[(all_data[\"Pclass\"] == 3) & (all_data[\"Embarked\"] == \"S\")][\"Fare\"].mean()\n",
    "test[\"Fare\"] = test[\"Fare\"].fillna(mean_fare)\n",
    "test.isnull().sum()"
   ]
  },
  {
   "cell_type": "markdown",
   "metadata": {
    "colab_type": "text",
    "id": "KY6vef8BNy8q"
   },
   "source": [
    "### 3) Age"
   ]
  },
  {
   "cell_type": "code",
   "execution_count": 15,
   "metadata": {
    "colab": {
     "autoexec": {
      "startup": false,
      "wait_interval": 0
     },
     "base_uri": "https://localhost:8080/",
     "height": 179,
     "output_extras": [
      {
       "item_id": 1
      }
     ]
    },
    "colab_type": "code",
    "executionInfo": {
     "elapsed": 469,
     "status": "ok",
     "timestamp": 1520231757447,
     "user": {
      "displayName": "이경희",
      "photoUrl": "https://lh3.googleusercontent.com/a/default-user=s128",
      "userId": "108801979825041190430"
     },
     "user_tz": -540
    },
    "id": "4E_a7kc4Nu2k",
    "outputId": "e35ccb3c-0ed4-475c-9e9f-97e80ff09734"
   },
   "outputs": [
    {
     "name": "stdout",
     "output_type": "stream",
     "text": [
      "29.881137667304014\n",
      "Pclass  Sex   \n",
      "1       female    37.037594\n",
      "        male      41.029272\n",
      "2       female    27.499223\n",
      "        male      30.815380\n",
      "3       female    22.185329\n",
      "        male      25.962264\n",
      "Name: Age, dtype: float64\n"
     ]
    }
   ],
   "source": [
    "all_mean_age = all_data[\"Age\"].mean()\n",
    "print(all_mean_age)\n",
    "\n",
    "train[\"Age\"] = train[\"Age\"].fillna(all_data[\"Age\"].mean())\n",
    "test[\"Age\"] = test[\"Age\"].fillna(all_data[\"Age\"].mean())\n",
    "\n",
    "# 좌석등급, 성별에 따른 연령층이 차이가 있음.. 이거 전체 루프 돌지 않고 어케 넣어주지??\n",
    "ages = all_data.groupby(['Pclass', 'Sex'])['Age'].mean()\n",
    "print(ages)"
   ]
  },
  {
   "cell_type": "code",
   "execution_count": 16,
   "metadata": {
    "colab": {
     "autoexec": {
      "startup": false,
      "wait_interval": 0
     },
     "base_uri": "https://localhost:8080/",
     "height": 233,
     "output_extras": [
      {
       "item_id": 1
      }
     ]
    },
    "colab_type": "code",
    "executionInfo": {
     "elapsed": 495,
     "status": "ok",
     "timestamp": 1520231758051,
     "user": {
      "displayName": "이경희",
      "photoUrl": "https://lh3.googleusercontent.com/a/default-user=s128",
      "userId": "108801979825041190430"
     },
     "user_tz": -540
    },
    "id": "tHKa6xB7N0fs",
    "outputId": "3ec9cab6-587b-431f-cb4f-4d1e086102da"
   },
   "outputs": [
    {
     "data": {
      "text/plain": [
       "Survived      0\n",
       "Pclass        0\n",
       "Name          0\n",
       "Sex           0\n",
       "Age           0\n",
       "SibSp         0\n",
       "Parch         0\n",
       "Ticket        0\n",
       "Fare          0\n",
       "Cabin       687\n",
       "Embarked      0\n",
       "dtype: int64"
      ]
     },
     "execution_count": 16,
     "metadata": {
      "tags": []
     },
     "output_type": "execute_result"
    }
   ],
   "source": [
    "train.isnull().sum()"
   ]
  },
  {
   "cell_type": "code",
   "execution_count": 17,
   "metadata": {
    "colab": {
     "autoexec": {
      "startup": false,
      "wait_interval": 0
     },
     "base_uri": "https://localhost:8080/",
     "height": 215,
     "output_extras": [
      {
       "item_id": 1
      }
     ]
    },
    "colab_type": "code",
    "executionInfo": {
     "elapsed": 370,
     "status": "ok",
     "timestamp": 1520231758544,
     "user": {
      "displayName": "이경희",
      "photoUrl": "https://lh3.googleusercontent.com/a/default-user=s128",
      "userId": "108801979825041190430"
     },
     "user_tz": -540
    },
    "id": "3T7uCXSVN2l5",
    "outputId": "bab0ca7c-6c13-433a-bc07-115545246d89"
   },
   "outputs": [
    {
     "data": {
      "text/plain": [
       "Pclass        0\n",
       "Name          0\n",
       "Sex           0\n",
       "Age           0\n",
       "SibSp         0\n",
       "Parch         0\n",
       "Ticket        0\n",
       "Fare          0\n",
       "Cabin       327\n",
       "Embarked      0\n",
       "dtype: int64"
      ]
     },
     "execution_count": 17,
     "metadata": {
      "tags": []
     },
     "output_type": "execute_result"
    }
   ],
   "source": [
    "test.isnull().sum()"
   ]
  },
  {
   "cell_type": "markdown",
   "metadata": {
    "colab_type": "text",
    "id": "fB4wPuP_N61y"
   },
   "source": [
    "## Encoding"
   ]
  },
  {
   "cell_type": "code",
   "execution_count": 0,
   "metadata": {
    "colab": {
     "autoexec": {
      "startup": false,
      "wait_interval": 0
     }
    },
    "colab_type": "code",
    "id": "ulUoXNXCN6Sp"
   },
   "outputs": [],
   "source": [
    "def create_dummies(df,column_name):\n",
    "    dummies = pd.get_dummies(df[column_name],prefix=column_name)\n",
    "    df = pd.concat([df,dummies],axis=1)\n",
    "    return df\n",
    "\n",
    "train = create_dummies(train,\"Pclass\")\n",
    "train = create_dummies(train,\"Embarked\")"
   ]
  },
  {
   "cell_type": "code",
   "execution_count": 0,
   "metadata": {
    "colab": {
     "autoexec": {
      "startup": false,
      "wait_interval": 0
     }
    },
    "colab_type": "code",
    "id": "pj-cCDlVN4Iw"
   },
   "outputs": [],
   "source": [
    "test = create_dummies(test,\"Pclass\")\n",
    "test = create_dummies(test,\"Embarked\")"
   ]
  },
  {
   "cell_type": "code",
   "execution_count": 20,
   "metadata": {
    "colab": {
     "autoexec": {
      "startup": false,
      "wait_interval": 0
     },
     "base_uri": "https://localhost:8080/",
     "height": 545,
     "output_extras": [
      {
       "item_id": 1
      },
      {
       "item_id": 2
      }
     ]
    },
    "colab_type": "code",
    "executionInfo": {
     "elapsed": 480,
     "status": "ok",
     "timestamp": 1520231760314,
     "user": {
      "displayName": "이경희",
      "photoUrl": "https://lh3.googleusercontent.com/a/default-user=s128",
      "userId": "108801979825041190430"
     },
     "user_tz": -540
    },
    "id": "b19i2bJHN_xr",
    "outputId": "07e2a7f7-de99-4ce4-a81f-c02a8aaddd86"
   },
   "outputs": [
    {
     "name": "stdout",
     "output_type": "stream",
     "text": [
      "(891, 18)\n"
     ]
    },
    {
     "data": {
      "text/html": [
       "<div>\n",
       "<style scoped>\n",
       "    .dataframe tbody tr th:only-of-type {\n",
       "        vertical-align: middle;\n",
       "    }\n",
       "\n",
       "    .dataframe tbody tr th {\n",
       "        vertical-align: top;\n",
       "    }\n",
       "\n",
       "    .dataframe thead th {\n",
       "        text-align: right;\n",
       "    }\n",
       "</style>\n",
       "<table border=\"1\" class=\"dataframe\">\n",
       "  <thead>\n",
       "    <tr style=\"text-align: right;\">\n",
       "      <th></th>\n",
       "      <th>Survived</th>\n",
       "      <th>Pclass</th>\n",
       "      <th>Name</th>\n",
       "      <th>Sex</th>\n",
       "      <th>Age</th>\n",
       "      <th>SibSp</th>\n",
       "      <th>Parch</th>\n",
       "      <th>Ticket</th>\n",
       "      <th>Fare</th>\n",
       "      <th>Cabin</th>\n",
       "      <th>Embarked</th>\n",
       "      <th>Pclass_1</th>\n",
       "      <th>Pclass_2</th>\n",
       "      <th>Pclass_3</th>\n",
       "      <th>Embarked_C</th>\n",
       "      <th>Embarked_Q</th>\n",
       "      <th>Embarked_S</th>\n",
       "      <th>Enc_Sex</th>\n",
       "    </tr>\n",
       "    <tr>\n",
       "      <th>PassengerId</th>\n",
       "      <th></th>\n",
       "      <th></th>\n",
       "      <th></th>\n",
       "      <th></th>\n",
       "      <th></th>\n",
       "      <th></th>\n",
       "      <th></th>\n",
       "      <th></th>\n",
       "      <th></th>\n",
       "      <th></th>\n",
       "      <th></th>\n",
       "      <th></th>\n",
       "      <th></th>\n",
       "      <th></th>\n",
       "      <th></th>\n",
       "      <th></th>\n",
       "      <th></th>\n",
       "      <th></th>\n",
       "    </tr>\n",
       "  </thead>\n",
       "  <tbody>\n",
       "    <tr>\n",
       "      <th>1</th>\n",
       "      <td>0</td>\n",
       "      <td>3</td>\n",
       "      <td>Braund, Mr. Owen Harris</td>\n",
       "      <td>male</td>\n",
       "      <td>22.0</td>\n",
       "      <td>1</td>\n",
       "      <td>0</td>\n",
       "      <td>A/5 21171</td>\n",
       "      <td>7.2500</td>\n",
       "      <td>NaN</td>\n",
       "      <td>S</td>\n",
       "      <td>0</td>\n",
       "      <td>0</td>\n",
       "      <td>1</td>\n",
       "      <td>0</td>\n",
       "      <td>0</td>\n",
       "      <td>1</td>\n",
       "      <td>0</td>\n",
       "    </tr>\n",
       "    <tr>\n",
       "      <th>2</th>\n",
       "      <td>1</td>\n",
       "      <td>1</td>\n",
       "      <td>Cumings, Mrs. John Bradley (Florence Briggs Th...</td>\n",
       "      <td>female</td>\n",
       "      <td>38.0</td>\n",
       "      <td>1</td>\n",
       "      <td>0</td>\n",
       "      <td>PC 17599</td>\n",
       "      <td>71.2833</td>\n",
       "      <td>C85</td>\n",
       "      <td>C</td>\n",
       "      <td>1</td>\n",
       "      <td>0</td>\n",
       "      <td>0</td>\n",
       "      <td>1</td>\n",
       "      <td>0</td>\n",
       "      <td>0</td>\n",
       "      <td>1</td>\n",
       "    </tr>\n",
       "    <tr>\n",
       "      <th>3</th>\n",
       "      <td>1</td>\n",
       "      <td>3</td>\n",
       "      <td>Heikkinen, Miss. Laina</td>\n",
       "      <td>female</td>\n",
       "      <td>26.0</td>\n",
       "      <td>0</td>\n",
       "      <td>0</td>\n",
       "      <td>STON/O2. 3101282</td>\n",
       "      <td>7.9250</td>\n",
       "      <td>NaN</td>\n",
       "      <td>S</td>\n",
       "      <td>0</td>\n",
       "      <td>0</td>\n",
       "      <td>1</td>\n",
       "      <td>0</td>\n",
       "      <td>0</td>\n",
       "      <td>1</td>\n",
       "      <td>1</td>\n",
       "    </tr>\n",
       "    <tr>\n",
       "      <th>4</th>\n",
       "      <td>1</td>\n",
       "      <td>1</td>\n",
       "      <td>Futrelle, Mrs. Jacques Heath (Lily May Peel)</td>\n",
       "      <td>female</td>\n",
       "      <td>35.0</td>\n",
       "      <td>1</td>\n",
       "      <td>0</td>\n",
       "      <td>113803</td>\n",
       "      <td>53.1000</td>\n",
       "      <td>C123</td>\n",
       "      <td>S</td>\n",
       "      <td>1</td>\n",
       "      <td>0</td>\n",
       "      <td>0</td>\n",
       "      <td>0</td>\n",
       "      <td>0</td>\n",
       "      <td>1</td>\n",
       "      <td>1</td>\n",
       "    </tr>\n",
       "    <tr>\n",
       "      <th>5</th>\n",
       "      <td>0</td>\n",
       "      <td>3</td>\n",
       "      <td>Allen, Mr. William Henry</td>\n",
       "      <td>male</td>\n",
       "      <td>35.0</td>\n",
       "      <td>0</td>\n",
       "      <td>0</td>\n",
       "      <td>373450</td>\n",
       "      <td>8.0500</td>\n",
       "      <td>NaN</td>\n",
       "      <td>S</td>\n",
       "      <td>0</td>\n",
       "      <td>0</td>\n",
       "      <td>1</td>\n",
       "      <td>0</td>\n",
       "      <td>0</td>\n",
       "      <td>1</td>\n",
       "      <td>0</td>\n",
       "    </tr>\n",
       "  </tbody>\n",
       "</table>\n",
       "</div>"
      ],
      "text/plain": [
       "             Survived  Pclass  \\\n",
       "PassengerId                     \n",
       "1                   0       3   \n",
       "2                   1       1   \n",
       "3                   1       3   \n",
       "4                   1       1   \n",
       "5                   0       3   \n",
       "\n",
       "                                                          Name     Sex   Age  \\\n",
       "PassengerId                                                                    \n",
       "1                                      Braund, Mr. Owen Harris    male  22.0   \n",
       "2            Cumings, Mrs. John Bradley (Florence Briggs Th...  female  38.0   \n",
       "3                                       Heikkinen, Miss. Laina  female  26.0   \n",
       "4                 Futrelle, Mrs. Jacques Heath (Lily May Peel)  female  35.0   \n",
       "5                                     Allen, Mr. William Henry    male  35.0   \n",
       "\n",
       "             SibSp  Parch            Ticket     Fare Cabin Embarked  Pclass_1  \\\n",
       "PassengerId                                                                     \n",
       "1                1      0         A/5 21171   7.2500   NaN        S         0   \n",
       "2                1      0          PC 17599  71.2833   C85        C         1   \n",
       "3                0      0  STON/O2. 3101282   7.9250   NaN        S         0   \n",
       "4                1      0            113803  53.1000  C123        S         1   \n",
       "5                0      0            373450   8.0500   NaN        S         0   \n",
       "\n",
       "             Pclass_2  Pclass_3  Embarked_C  Embarked_Q  Embarked_S  Enc_Sex  \n",
       "PassengerId                                                                   \n",
       "1                   0         1           0           0           1        0  \n",
       "2                   0         0           1           0           0        1  \n",
       "3                   0         1           0           0           1        1  \n",
       "4                   0         0           0           0           1        1  \n",
       "5                   0         1           0           0           1        0  "
      ]
     },
     "execution_count": 20,
     "metadata": {
      "tags": []
     },
     "output_type": "execute_result"
    }
   ],
   "source": [
    "# 성별을 feature 로 사용하기위해 수치형으로 encoding\n",
    "train.loc[train[\"Sex\"] == \"male\", \"Enc_Sex\"] = 0\n",
    "train.loc[train[\"Sex\"] == \"female\", \"Enc_Sex\"] = 1\n",
    "train[\"Enc_Sex\"] = train[\"Enc_Sex\"].astype(int)\n",
    "\n",
    "print(train.shape)\n",
    "train.head()"
   ]
  },
  {
   "cell_type": "code",
   "execution_count": 21,
   "metadata": {
    "colab": {
     "autoexec": {
      "startup": false,
      "wait_interval": 0
     },
     "base_uri": "https://localhost:8080/",
     "height": 494,
     "output_extras": [
      {
       "item_id": 1
      },
      {
       "item_id": 2
      }
     ]
    },
    "colab_type": "code",
    "executionInfo": {
     "elapsed": 467,
     "status": "ok",
     "timestamp": 1520231760902,
     "user": {
      "displayName": "이경희",
      "photoUrl": "https://lh3.googleusercontent.com/a/default-user=s128",
      "userId": "108801979825041190430"
     },
     "user_tz": -540
    },
    "id": "fvq23nLOOBSF",
    "outputId": "cbc4404e-f94b-449f-c3ca-4920c2ac52af"
   },
   "outputs": [
    {
     "name": "stdout",
     "output_type": "stream",
     "text": [
      "(418, 17)\n"
     ]
    },
    {
     "data": {
      "text/html": [
       "<div>\n",
       "<style scoped>\n",
       "    .dataframe tbody tr th:only-of-type {\n",
       "        vertical-align: middle;\n",
       "    }\n",
       "\n",
       "    .dataframe tbody tr th {\n",
       "        vertical-align: top;\n",
       "    }\n",
       "\n",
       "    .dataframe thead th {\n",
       "        text-align: right;\n",
       "    }\n",
       "</style>\n",
       "<table border=\"1\" class=\"dataframe\">\n",
       "  <thead>\n",
       "    <tr style=\"text-align: right;\">\n",
       "      <th></th>\n",
       "      <th>Pclass</th>\n",
       "      <th>Name</th>\n",
       "      <th>Sex</th>\n",
       "      <th>Age</th>\n",
       "      <th>SibSp</th>\n",
       "      <th>Parch</th>\n",
       "      <th>Ticket</th>\n",
       "      <th>Fare</th>\n",
       "      <th>Cabin</th>\n",
       "      <th>Embarked</th>\n",
       "      <th>Pclass_1</th>\n",
       "      <th>Pclass_2</th>\n",
       "      <th>Pclass_3</th>\n",
       "      <th>Embarked_C</th>\n",
       "      <th>Embarked_Q</th>\n",
       "      <th>Embarked_S</th>\n",
       "      <th>Enc_Sex</th>\n",
       "    </tr>\n",
       "    <tr>\n",
       "      <th>PassengerId</th>\n",
       "      <th></th>\n",
       "      <th></th>\n",
       "      <th></th>\n",
       "      <th></th>\n",
       "      <th></th>\n",
       "      <th></th>\n",
       "      <th></th>\n",
       "      <th></th>\n",
       "      <th></th>\n",
       "      <th></th>\n",
       "      <th></th>\n",
       "      <th></th>\n",
       "      <th></th>\n",
       "      <th></th>\n",
       "      <th></th>\n",
       "      <th></th>\n",
       "      <th></th>\n",
       "    </tr>\n",
       "  </thead>\n",
       "  <tbody>\n",
       "    <tr>\n",
       "      <th>892</th>\n",
       "      <td>3</td>\n",
       "      <td>Kelly, Mr. James</td>\n",
       "      <td>male</td>\n",
       "      <td>34.5</td>\n",
       "      <td>0</td>\n",
       "      <td>0</td>\n",
       "      <td>330911</td>\n",
       "      <td>7.8292</td>\n",
       "      <td>NaN</td>\n",
       "      <td>Q</td>\n",
       "      <td>0</td>\n",
       "      <td>0</td>\n",
       "      <td>1</td>\n",
       "      <td>0</td>\n",
       "      <td>1</td>\n",
       "      <td>0</td>\n",
       "      <td>0</td>\n",
       "    </tr>\n",
       "    <tr>\n",
       "      <th>893</th>\n",
       "      <td>3</td>\n",
       "      <td>Wilkes, Mrs. James (Ellen Needs)</td>\n",
       "      <td>female</td>\n",
       "      <td>47.0</td>\n",
       "      <td>1</td>\n",
       "      <td>0</td>\n",
       "      <td>363272</td>\n",
       "      <td>7.0000</td>\n",
       "      <td>NaN</td>\n",
       "      <td>S</td>\n",
       "      <td>0</td>\n",
       "      <td>0</td>\n",
       "      <td>1</td>\n",
       "      <td>0</td>\n",
       "      <td>0</td>\n",
       "      <td>1</td>\n",
       "      <td>1</td>\n",
       "    </tr>\n",
       "    <tr>\n",
       "      <th>894</th>\n",
       "      <td>2</td>\n",
       "      <td>Myles, Mr. Thomas Francis</td>\n",
       "      <td>male</td>\n",
       "      <td>62.0</td>\n",
       "      <td>0</td>\n",
       "      <td>0</td>\n",
       "      <td>240276</td>\n",
       "      <td>9.6875</td>\n",
       "      <td>NaN</td>\n",
       "      <td>Q</td>\n",
       "      <td>0</td>\n",
       "      <td>1</td>\n",
       "      <td>0</td>\n",
       "      <td>0</td>\n",
       "      <td>1</td>\n",
       "      <td>0</td>\n",
       "      <td>0</td>\n",
       "    </tr>\n",
       "    <tr>\n",
       "      <th>895</th>\n",
       "      <td>3</td>\n",
       "      <td>Wirz, Mr. Albert</td>\n",
       "      <td>male</td>\n",
       "      <td>27.0</td>\n",
       "      <td>0</td>\n",
       "      <td>0</td>\n",
       "      <td>315154</td>\n",
       "      <td>8.6625</td>\n",
       "      <td>NaN</td>\n",
       "      <td>S</td>\n",
       "      <td>0</td>\n",
       "      <td>0</td>\n",
       "      <td>1</td>\n",
       "      <td>0</td>\n",
       "      <td>0</td>\n",
       "      <td>1</td>\n",
       "      <td>0</td>\n",
       "    </tr>\n",
       "    <tr>\n",
       "      <th>896</th>\n",
       "      <td>3</td>\n",
       "      <td>Hirvonen, Mrs. Alexander (Helga E Lindqvist)</td>\n",
       "      <td>female</td>\n",
       "      <td>22.0</td>\n",
       "      <td>1</td>\n",
       "      <td>1</td>\n",
       "      <td>3101298</td>\n",
       "      <td>12.2875</td>\n",
       "      <td>NaN</td>\n",
       "      <td>S</td>\n",
       "      <td>0</td>\n",
       "      <td>0</td>\n",
       "      <td>1</td>\n",
       "      <td>0</td>\n",
       "      <td>0</td>\n",
       "      <td>1</td>\n",
       "      <td>1</td>\n",
       "    </tr>\n",
       "  </tbody>\n",
       "</table>\n",
       "</div>"
      ],
      "text/plain": [
       "             Pclass                                          Name     Sex  \\\n",
       "PassengerId                                                                 \n",
       "892               3                              Kelly, Mr. James    male   \n",
       "893               3              Wilkes, Mrs. James (Ellen Needs)  female   \n",
       "894               2                     Myles, Mr. Thomas Francis    male   \n",
       "895               3                              Wirz, Mr. Albert    male   \n",
       "896               3  Hirvonen, Mrs. Alexander (Helga E Lindqvist)  female   \n",
       "\n",
       "              Age  SibSp  Parch   Ticket     Fare Cabin Embarked  Pclass_1  \\\n",
       "PassengerId                                                                  \n",
       "892          34.5      0      0   330911   7.8292   NaN        Q         0   \n",
       "893          47.0      1      0   363272   7.0000   NaN        S         0   \n",
       "894          62.0      0      0   240276   9.6875   NaN        Q         0   \n",
       "895          27.0      0      0   315154   8.6625   NaN        S         0   \n",
       "896          22.0      1      1  3101298  12.2875   NaN        S         0   \n",
       "\n",
       "             Pclass_2  Pclass_3  Embarked_C  Embarked_Q  Embarked_S  Enc_Sex  \n",
       "PassengerId                                                                   \n",
       "892                 0         1           0           1           0        0  \n",
       "893                 0         1           0           0           1        1  \n",
       "894                 1         0           0           1           0        0  \n",
       "895                 0         1           0           0           1        0  \n",
       "896                 0         1           0           0           1        1  "
      ]
     },
     "execution_count": 21,
     "metadata": {
      "tags": []
     },
     "output_type": "execute_result"
    }
   ],
   "source": [
    "# test 데이터를 가지고 predict 를 해야 하기 때문에 train data 와 동일하게 전처리 해야 함\n",
    "test.loc[test[\"Sex\"] == \"male\", \"Enc_Sex\"] = 0\n",
    "test.loc[test[\"Sex\"] == \"female\", \"Enc_Sex\"] = 1\n",
    "test[\"Enc_Sex\"] = test[\"Enc_Sex\"].astype(int)\n",
    "\n",
    "print(test.shape)\n",
    "test.head()"
   ]
  },
  {
   "cell_type": "code",
   "execution_count": 22,
   "metadata": {
    "colab": {
     "autoexec": {
      "startup": false,
      "wait_interval": 0
     },
     "base_uri": "https://localhost:8080/",
     "height": 527,
     "output_extras": [
      {
       "item_id": 1
      }
     ]
    },
    "colab_type": "code",
    "executionInfo": {
     "elapsed": 455,
     "status": "ok",
     "timestamp": 1520231761485,
     "user": {
      "displayName": "이경희",
      "photoUrl": "https://lh3.googleusercontent.com/a/default-user=s128",
      "userId": "108801979825041190430"
     },
     "user_tz": -540
    },
    "id": "71tQmmc9OC5l",
    "outputId": "ab0b1c83-7edf-4ef2-e112-a4656f9cfbe4"
   },
   "outputs": [
    {
     "data": {
      "text/html": [
       "<div>\n",
       "<style scoped>\n",
       "    .dataframe tbody tr th:only-of-type {\n",
       "        vertical-align: middle;\n",
       "    }\n",
       "\n",
       "    .dataframe tbody tr th {\n",
       "        vertical-align: top;\n",
       "    }\n",
       "\n",
       "    .dataframe thead th {\n",
       "        text-align: right;\n",
       "    }\n",
       "</style>\n",
       "<table border=\"1\" class=\"dataframe\">\n",
       "  <thead>\n",
       "    <tr style=\"text-align: right;\">\n",
       "      <th></th>\n",
       "      <th>Survived</th>\n",
       "      <th>Pclass</th>\n",
       "      <th>Name</th>\n",
       "      <th>Sex</th>\n",
       "      <th>Age</th>\n",
       "      <th>SibSp</th>\n",
       "      <th>Parch</th>\n",
       "      <th>Ticket</th>\n",
       "      <th>Fare</th>\n",
       "      <th>Cabin</th>\n",
       "      <th>Embarked</th>\n",
       "      <th>Pclass_1</th>\n",
       "      <th>Pclass_2</th>\n",
       "      <th>Pclass_3</th>\n",
       "      <th>Embarked_C</th>\n",
       "      <th>Embarked_Q</th>\n",
       "      <th>Embarked_S</th>\n",
       "      <th>Enc_Sex</th>\n",
       "      <th>Family</th>\n",
       "    </tr>\n",
       "    <tr>\n",
       "      <th>PassengerId</th>\n",
       "      <th></th>\n",
       "      <th></th>\n",
       "      <th></th>\n",
       "      <th></th>\n",
       "      <th></th>\n",
       "      <th></th>\n",
       "      <th></th>\n",
       "      <th></th>\n",
       "      <th></th>\n",
       "      <th></th>\n",
       "      <th></th>\n",
       "      <th></th>\n",
       "      <th></th>\n",
       "      <th></th>\n",
       "      <th></th>\n",
       "      <th></th>\n",
       "      <th></th>\n",
       "      <th></th>\n",
       "      <th></th>\n",
       "    </tr>\n",
       "  </thead>\n",
       "  <tbody>\n",
       "    <tr>\n",
       "      <th>1</th>\n",
       "      <td>0</td>\n",
       "      <td>3</td>\n",
       "      <td>Braund, Mr. Owen Harris</td>\n",
       "      <td>male</td>\n",
       "      <td>22.0</td>\n",
       "      <td>1</td>\n",
       "      <td>0</td>\n",
       "      <td>A/5 21171</td>\n",
       "      <td>7.2500</td>\n",
       "      <td>NaN</td>\n",
       "      <td>S</td>\n",
       "      <td>0</td>\n",
       "      <td>0</td>\n",
       "      <td>1</td>\n",
       "      <td>0</td>\n",
       "      <td>0</td>\n",
       "      <td>1</td>\n",
       "      <td>0</td>\n",
       "      <td>1</td>\n",
       "    </tr>\n",
       "    <tr>\n",
       "      <th>2</th>\n",
       "      <td>1</td>\n",
       "      <td>1</td>\n",
       "      <td>Cumings, Mrs. John Bradley (Florence Briggs Th...</td>\n",
       "      <td>female</td>\n",
       "      <td>38.0</td>\n",
       "      <td>1</td>\n",
       "      <td>0</td>\n",
       "      <td>PC 17599</td>\n",
       "      <td>71.2833</td>\n",
       "      <td>C85</td>\n",
       "      <td>C</td>\n",
       "      <td>1</td>\n",
       "      <td>0</td>\n",
       "      <td>0</td>\n",
       "      <td>1</td>\n",
       "      <td>0</td>\n",
       "      <td>0</td>\n",
       "      <td>1</td>\n",
       "      <td>1</td>\n",
       "    </tr>\n",
       "    <tr>\n",
       "      <th>3</th>\n",
       "      <td>1</td>\n",
       "      <td>3</td>\n",
       "      <td>Heikkinen, Miss. Laina</td>\n",
       "      <td>female</td>\n",
       "      <td>26.0</td>\n",
       "      <td>0</td>\n",
       "      <td>0</td>\n",
       "      <td>STON/O2. 3101282</td>\n",
       "      <td>7.9250</td>\n",
       "      <td>NaN</td>\n",
       "      <td>S</td>\n",
       "      <td>0</td>\n",
       "      <td>0</td>\n",
       "      <td>1</td>\n",
       "      <td>0</td>\n",
       "      <td>0</td>\n",
       "      <td>1</td>\n",
       "      <td>1</td>\n",
       "      <td>0</td>\n",
       "    </tr>\n",
       "    <tr>\n",
       "      <th>4</th>\n",
       "      <td>1</td>\n",
       "      <td>1</td>\n",
       "      <td>Futrelle, Mrs. Jacques Heath (Lily May Peel)</td>\n",
       "      <td>female</td>\n",
       "      <td>35.0</td>\n",
       "      <td>1</td>\n",
       "      <td>0</td>\n",
       "      <td>113803</td>\n",
       "      <td>53.1000</td>\n",
       "      <td>C123</td>\n",
       "      <td>S</td>\n",
       "      <td>1</td>\n",
       "      <td>0</td>\n",
       "      <td>0</td>\n",
       "      <td>0</td>\n",
       "      <td>0</td>\n",
       "      <td>1</td>\n",
       "      <td>1</td>\n",
       "      <td>1</td>\n",
       "    </tr>\n",
       "    <tr>\n",
       "      <th>5</th>\n",
       "      <td>0</td>\n",
       "      <td>3</td>\n",
       "      <td>Allen, Mr. William Henry</td>\n",
       "      <td>male</td>\n",
       "      <td>35.0</td>\n",
       "      <td>0</td>\n",
       "      <td>0</td>\n",
       "      <td>373450</td>\n",
       "      <td>8.0500</td>\n",
       "      <td>NaN</td>\n",
       "      <td>S</td>\n",
       "      <td>0</td>\n",
       "      <td>0</td>\n",
       "      <td>1</td>\n",
       "      <td>0</td>\n",
       "      <td>0</td>\n",
       "      <td>1</td>\n",
       "      <td>0</td>\n",
       "      <td>0</td>\n",
       "    </tr>\n",
       "  </tbody>\n",
       "</table>\n",
       "</div>"
      ],
      "text/plain": [
       "             Survived  Pclass  \\\n",
       "PassengerId                     \n",
       "1                   0       3   \n",
       "2                   1       1   \n",
       "3                   1       3   \n",
       "4                   1       1   \n",
       "5                   0       3   \n",
       "\n",
       "                                                          Name     Sex   Age  \\\n",
       "PassengerId                                                                    \n",
       "1                                      Braund, Mr. Owen Harris    male  22.0   \n",
       "2            Cumings, Mrs. John Bradley (Florence Briggs Th...  female  38.0   \n",
       "3                                       Heikkinen, Miss. Laina  female  26.0   \n",
       "4                 Futrelle, Mrs. Jacques Heath (Lily May Peel)  female  35.0   \n",
       "5                                     Allen, Mr. William Henry    male  35.0   \n",
       "\n",
       "             SibSp  Parch            Ticket     Fare Cabin Embarked  Pclass_1  \\\n",
       "PassengerId                                                                     \n",
       "1                1      0         A/5 21171   7.2500   NaN        S         0   \n",
       "2                1      0          PC 17599  71.2833   C85        C         1   \n",
       "3                0      0  STON/O2. 3101282   7.9250   NaN        S         0   \n",
       "4                1      0            113803  53.1000  C123        S         1   \n",
       "5                0      0            373450   8.0500   NaN        S         0   \n",
       "\n",
       "             Pclass_2  Pclass_3  Embarked_C  Embarked_Q  Embarked_S  Enc_Sex  \\\n",
       "PassengerId                                                                    \n",
       "1                   0         1           0           0           1        0   \n",
       "2                   0         0           1           0           0        1   \n",
       "3                   0         1           0           0           1        1   \n",
       "4                   0         0           0           0           1        1   \n",
       "5                   0         1           0           0           1        0   \n",
       "\n",
       "             Family  \n",
       "PassengerId          \n",
       "1                 1  \n",
       "2                 1  \n",
       "3                 0  \n",
       "4                 1  \n",
       "5                 0  "
      ]
     },
     "execution_count": 22,
     "metadata": {
      "tags": []
     },
     "output_type": "execute_result"
    }
   ],
   "source": [
    "train[\"Family\"] = train[\"SibSp\"] + train[\"Parch\"]\n",
    "train.head()"
   ]
  },
  {
   "cell_type": "code",
   "execution_count": 23,
   "metadata": {
    "colab": {
     "autoexec": {
      "startup": false,
      "wait_interval": 0
     },
     "base_uri": "https://localhost:8080/",
     "height": 476,
     "output_extras": [
      {
       "item_id": 1
      }
     ]
    },
    "colab_type": "code",
    "executionInfo": {
     "elapsed": 481,
     "status": "ok",
     "timestamp": 1520231762085,
     "user": {
      "displayName": "이경희",
      "photoUrl": "https://lh3.googleusercontent.com/a/default-user=s128",
      "userId": "108801979825041190430"
     },
     "user_tz": -540
    },
    "id": "SnfzbBQZOErr",
    "outputId": "365adfaa-f8fe-4896-8607-ceeb7721ba75"
   },
   "outputs": [
    {
     "data": {
      "text/html": [
       "<div>\n",
       "<style scoped>\n",
       "    .dataframe tbody tr th:only-of-type {\n",
       "        vertical-align: middle;\n",
       "    }\n",
       "\n",
       "    .dataframe tbody tr th {\n",
       "        vertical-align: top;\n",
       "    }\n",
       "\n",
       "    .dataframe thead th {\n",
       "        text-align: right;\n",
       "    }\n",
       "</style>\n",
       "<table border=\"1\" class=\"dataframe\">\n",
       "  <thead>\n",
       "    <tr style=\"text-align: right;\">\n",
       "      <th></th>\n",
       "      <th>Pclass</th>\n",
       "      <th>Name</th>\n",
       "      <th>Sex</th>\n",
       "      <th>Age</th>\n",
       "      <th>SibSp</th>\n",
       "      <th>Parch</th>\n",
       "      <th>Ticket</th>\n",
       "      <th>Fare</th>\n",
       "      <th>Cabin</th>\n",
       "      <th>Embarked</th>\n",
       "      <th>Pclass_1</th>\n",
       "      <th>Pclass_2</th>\n",
       "      <th>Pclass_3</th>\n",
       "      <th>Embarked_C</th>\n",
       "      <th>Embarked_Q</th>\n",
       "      <th>Embarked_S</th>\n",
       "      <th>Enc_Sex</th>\n",
       "      <th>Family</th>\n",
       "    </tr>\n",
       "    <tr>\n",
       "      <th>PassengerId</th>\n",
       "      <th></th>\n",
       "      <th></th>\n",
       "      <th></th>\n",
       "      <th></th>\n",
       "      <th></th>\n",
       "      <th></th>\n",
       "      <th></th>\n",
       "      <th></th>\n",
       "      <th></th>\n",
       "      <th></th>\n",
       "      <th></th>\n",
       "      <th></th>\n",
       "      <th></th>\n",
       "      <th></th>\n",
       "      <th></th>\n",
       "      <th></th>\n",
       "      <th></th>\n",
       "      <th></th>\n",
       "    </tr>\n",
       "  </thead>\n",
       "  <tbody>\n",
       "    <tr>\n",
       "      <th>892</th>\n",
       "      <td>3</td>\n",
       "      <td>Kelly, Mr. James</td>\n",
       "      <td>male</td>\n",
       "      <td>34.5</td>\n",
       "      <td>0</td>\n",
       "      <td>0</td>\n",
       "      <td>330911</td>\n",
       "      <td>7.8292</td>\n",
       "      <td>NaN</td>\n",
       "      <td>Q</td>\n",
       "      <td>0</td>\n",
       "      <td>0</td>\n",
       "      <td>1</td>\n",
       "      <td>0</td>\n",
       "      <td>1</td>\n",
       "      <td>0</td>\n",
       "      <td>0</td>\n",
       "      <td>0</td>\n",
       "    </tr>\n",
       "    <tr>\n",
       "      <th>893</th>\n",
       "      <td>3</td>\n",
       "      <td>Wilkes, Mrs. James (Ellen Needs)</td>\n",
       "      <td>female</td>\n",
       "      <td>47.0</td>\n",
       "      <td>1</td>\n",
       "      <td>0</td>\n",
       "      <td>363272</td>\n",
       "      <td>7.0000</td>\n",
       "      <td>NaN</td>\n",
       "      <td>S</td>\n",
       "      <td>0</td>\n",
       "      <td>0</td>\n",
       "      <td>1</td>\n",
       "      <td>0</td>\n",
       "      <td>0</td>\n",
       "      <td>1</td>\n",
       "      <td>1</td>\n",
       "      <td>1</td>\n",
       "    </tr>\n",
       "    <tr>\n",
       "      <th>894</th>\n",
       "      <td>2</td>\n",
       "      <td>Myles, Mr. Thomas Francis</td>\n",
       "      <td>male</td>\n",
       "      <td>62.0</td>\n",
       "      <td>0</td>\n",
       "      <td>0</td>\n",
       "      <td>240276</td>\n",
       "      <td>9.6875</td>\n",
       "      <td>NaN</td>\n",
       "      <td>Q</td>\n",
       "      <td>0</td>\n",
       "      <td>1</td>\n",
       "      <td>0</td>\n",
       "      <td>0</td>\n",
       "      <td>1</td>\n",
       "      <td>0</td>\n",
       "      <td>0</td>\n",
       "      <td>0</td>\n",
       "    </tr>\n",
       "    <tr>\n",
       "      <th>895</th>\n",
       "      <td>3</td>\n",
       "      <td>Wirz, Mr. Albert</td>\n",
       "      <td>male</td>\n",
       "      <td>27.0</td>\n",
       "      <td>0</td>\n",
       "      <td>0</td>\n",
       "      <td>315154</td>\n",
       "      <td>8.6625</td>\n",
       "      <td>NaN</td>\n",
       "      <td>S</td>\n",
       "      <td>0</td>\n",
       "      <td>0</td>\n",
       "      <td>1</td>\n",
       "      <td>0</td>\n",
       "      <td>0</td>\n",
       "      <td>1</td>\n",
       "      <td>0</td>\n",
       "      <td>0</td>\n",
       "    </tr>\n",
       "    <tr>\n",
       "      <th>896</th>\n",
       "      <td>3</td>\n",
       "      <td>Hirvonen, Mrs. Alexander (Helga E Lindqvist)</td>\n",
       "      <td>female</td>\n",
       "      <td>22.0</td>\n",
       "      <td>1</td>\n",
       "      <td>1</td>\n",
       "      <td>3101298</td>\n",
       "      <td>12.2875</td>\n",
       "      <td>NaN</td>\n",
       "      <td>S</td>\n",
       "      <td>0</td>\n",
       "      <td>0</td>\n",
       "      <td>1</td>\n",
       "      <td>0</td>\n",
       "      <td>0</td>\n",
       "      <td>1</td>\n",
       "      <td>1</td>\n",
       "      <td>2</td>\n",
       "    </tr>\n",
       "  </tbody>\n",
       "</table>\n",
       "</div>"
      ],
      "text/plain": [
       "             Pclass                                          Name     Sex  \\\n",
       "PassengerId                                                                 \n",
       "892               3                              Kelly, Mr. James    male   \n",
       "893               3              Wilkes, Mrs. James (Ellen Needs)  female   \n",
       "894               2                     Myles, Mr. Thomas Francis    male   \n",
       "895               3                              Wirz, Mr. Albert    male   \n",
       "896               3  Hirvonen, Mrs. Alexander (Helga E Lindqvist)  female   \n",
       "\n",
       "              Age  SibSp  Parch   Ticket     Fare Cabin Embarked  Pclass_1  \\\n",
       "PassengerId                                                                  \n",
       "892          34.5      0      0   330911   7.8292   NaN        Q         0   \n",
       "893          47.0      1      0   363272   7.0000   NaN        S         0   \n",
       "894          62.0      0      0   240276   9.6875   NaN        Q         0   \n",
       "895          27.0      0      0   315154   8.6625   NaN        S         0   \n",
       "896          22.0      1      1  3101298  12.2875   NaN        S         0   \n",
       "\n",
       "             Pclass_2  Pclass_3  Embarked_C  Embarked_Q  Embarked_S  Enc_Sex  \\\n",
       "PassengerId                                                                    \n",
       "892                 0         1           0           1           0        0   \n",
       "893                 0         1           0           0           1        1   \n",
       "894                 1         0           0           1           0        0   \n",
       "895                 0         1           0           0           1        0   \n",
       "896                 0         1           0           0           1        1   \n",
       "\n",
       "             Family  \n",
       "PassengerId          \n",
       "892               0  \n",
       "893               1  \n",
       "894               0  \n",
       "895               0  \n",
       "896               2  "
      ]
     },
     "execution_count": 23,
     "metadata": {
      "tags": []
     },
     "output_type": "execute_result"
    }
   ],
   "source": [
    "test[\"Family\"] = test[\"SibSp\"] + test[\"Parch\"]\n",
    "test.head()"
   ]
  },
  {
   "cell_type": "markdown",
   "metadata": {
    "colab_type": "text",
    "id": "6PKGMbu4OJQi"
   },
   "source": [
    "## Train"
   ]
  },
  {
   "cell_type": "code",
   "execution_count": 24,
   "metadata": {
    "colab": {
     "autoexec": {
      "startup": false,
      "wait_interval": 0
     },
     "base_uri": "https://localhost:8080/",
     "height": 143,
     "output_extras": [
      {
       "item_id": 1
      }
     ]
    },
    "colab_type": "code",
    "executionInfo": {
     "elapsed": 471,
     "status": "ok",
     "timestamp": 1520231762675,
     "user": {
      "displayName": "이경희",
      "photoUrl": "https://lh3.googleusercontent.com/a/default-user=s128",
      "userId": "108801979825041190430"
     },
     "user_tz": -540
    },
    "id": "CyJ-6m43OGK4",
    "outputId": "64d6f97e-7c3e-4832-b20c-90a33bb06d02"
   },
   "outputs": [
    {
     "name": "stdout",
     "output_type": "stream",
     "text": [
      "[[0. 0. 1. ... 0. 0. 1.]\n",
      " [1. 0. 0. ... 1. 0. 0.]\n",
      " [0. 0. 1. ... 0. 0. 1.]\n",
      " ...\n",
      " [0. 0. 1. ... 0. 0. 1.]\n",
      " [1. 0. 0. ... 1. 0. 0.]\n",
      " [0. 0. 1. ... 0. 1. 0.]]\n"
     ]
    }
   ],
   "source": [
    "#feature_names = [\"Pclass\", \"Enc_Sex\", \"Age\", \"SibSp\", \"Parch\", \"Fare\", \"Embarked_C\", \"Embarked_Q\", \"Embarked_S\"]\n",
    "# 왜 나는 Pclass를 one hot encoding 해야 더 점수가 잘 나오는지 모르겠음\n",
    "feature_names = [\"Pclass_1\", \"Pclass_2\", \"Pclass_3\", \"Enc_Sex\", \"Age\", \"Family\", \"Fare\", \"Embarked_C\", \"Embarked_Q\", \"Embarked_S\"]\n",
    "#feature_names = [\"Pclass\", \"Enc_Sex\", \"SibSp\", \"Parch\", \"Fare\", \"Embarked_C\", \"Embarked_Q\", \"Embarked_S\"]\n",
    "\n",
    "X = train[feature_names].values\n",
    "\n",
    "y = train['Survived'].values\n",
    "y = y.astype(float).reshape(-1, 1)\n",
    "\n",
    "print(X)"
   ]
  },
  {
   "cell_type": "code",
   "execution_count": 0,
   "metadata": {
    "colab": {
     "autoexec": {
      "startup": false,
      "wait_interval": 0
     }
    },
    "colab_type": "code",
    "id": "C0OxSCAqOK9C"
   },
   "outputs": [],
   "source": [
    "# X_train = train[feature_names].values\n",
    "# X_train = X_train.astype(float)\n",
    "# y_train = train['Survived'].values\n",
    "# y_train = y_train.astype(float).reshape(-1, 1)\n",
    "# print(X_train.shape, y_train.shape)\n",
    "\n",
    "from sklearn.model_selection import train_test_split\n",
    "\n",
    "X_train, X_dev, y_train, y_dev = train_test_split(X, y, test_size=0.1, random_state=0)"
   ]
  },
  {
   "cell_type": "code",
   "execution_count": 26,
   "metadata": {
    "colab": {
     "autoexec": {
      "startup": false,
      "wait_interval": 0
     },
     "base_uri": "https://localhost:8080/",
     "height": 53,
     "output_extras": [
      {
       "item_id": 1
      }
     ]
    },
    "colab_type": "code",
    "executionInfo": {
     "elapsed": 492,
     "status": "ok",
     "timestamp": 1520231763839,
     "user": {
      "displayName": "이경희",
      "photoUrl": "https://lh3.googleusercontent.com/a/default-user=s128",
      "userId": "108801979825041190430"
     },
     "user_tz": -540
    },
    "id": "HTsF5ugOONHm",
    "outputId": "83c1fcf2-0d69-4841-b38a-7b69b0ef350a"
   },
   "outputs": [
    {
     "name": "stdout",
     "output_type": "stream",
     "text": [
      "(801, 10) (801, 1)\n",
      "(90, 10) (90, 1)\n"
     ]
    }
   ],
   "source": [
    "print(X_train.shape, y_train.shape)\n",
    "print(X_dev.shape, y_dev.shape)"
   ]
  },
  {
   "cell_type": "code",
   "execution_count": 27,
   "metadata": {
    "colab": {
     "autoexec": {
      "startup": false,
      "wait_interval": 0
     },
     "base_uri": "https://localhost:8080/",
     "height": 143,
     "output_extras": [
      {
       "item_id": 1
      }
     ]
    },
    "colab_type": "code",
    "executionInfo": {
     "elapsed": 492,
     "status": "ok",
     "timestamp": 1520231764430,
     "user": {
      "displayName": "이경희",
      "photoUrl": "https://lh3.googleusercontent.com/a/default-user=s128",
      "userId": "108801979825041190430"
     },
     "user_tz": -540
    },
    "id": "8gHdu-EROOtA",
    "outputId": "b84b11f5-daaa-40b8-ec4f-71557895e277"
   },
   "outputs": [
    {
     "name": "stdout",
     "output_type": "stream",
     "text": [
      "[[0. 0. 1. ... 0. 1. 0.]\n",
      " [0. 0. 1. ... 0. 0. 1.]\n",
      " [0. 1. 0. ... 0. 1. 0.]\n",
      " ...\n",
      " [0. 0. 1. ... 0. 0. 1.]\n",
      " [0. 0. 1. ... 0. 0. 1.]\n",
      " [0. 0. 1. ... 1. 0. 0.]]\n"
     ]
    }
   ],
   "source": [
    "X_test = test[feature_names].values\n",
    "X_test = X_test.astype(float)\n",
    "\n",
    "print(X_test)"
   ]
  },
  {
   "cell_type": "code",
   "execution_count": 28,
   "metadata": {
    "colab": {
     "autoexec": {
      "startup": false,
      "wait_interval": 0
     },
     "base_uri": "https://localhost:8080/",
     "height": 7541,
     "output_extras": [
      {
       "item_id": 1
      }
     ]
    },
    "colab_type": "code",
    "executionInfo": {
     "elapsed": 482,
     "status": "ok",
     "timestamp": 1520231765014,
     "user": {
      "displayName": "이경희",
      "photoUrl": "https://lh3.googleusercontent.com/a/default-user=s128",
      "userId": "108801979825041190430"
     },
     "user_tz": -540
    },
    "id": "zpbqldcMOQsm",
    "outputId": "9620a654-c081-459e-f6fb-4348a6ad7962"
   },
   "outputs": [
    {
     "name": "stdout",
     "output_type": "stream",
     "text": [
      "[[ 892]\n",
      " [ 893]\n",
      " [ 894]\n",
      " [ 895]\n",
      " [ 896]\n",
      " [ 897]\n",
      " [ 898]\n",
      " [ 899]\n",
      " [ 900]\n",
      " [ 901]\n",
      " [ 902]\n",
      " [ 903]\n",
      " [ 904]\n",
      " [ 905]\n",
      " [ 906]\n",
      " [ 907]\n",
      " [ 908]\n",
      " [ 909]\n",
      " [ 910]\n",
      " [ 911]\n",
      " [ 912]\n",
      " [ 913]\n",
      " [ 914]\n",
      " [ 915]\n",
      " [ 916]\n",
      " [ 917]\n",
      " [ 918]\n",
      " [ 919]\n",
      " [ 920]\n",
      " [ 921]\n",
      " [ 922]\n",
      " [ 923]\n",
      " [ 924]\n",
      " [ 925]\n",
      " [ 926]\n",
      " [ 927]\n",
      " [ 928]\n",
      " [ 929]\n",
      " [ 930]\n",
      " [ 931]\n",
      " [ 932]\n",
      " [ 933]\n",
      " [ 934]\n",
      " [ 935]\n",
      " [ 936]\n",
      " [ 937]\n",
      " [ 938]\n",
      " [ 939]\n",
      " [ 940]\n",
      " [ 941]\n",
      " [ 942]\n",
      " [ 943]\n",
      " [ 944]\n",
      " [ 945]\n",
      " [ 946]\n",
      " [ 947]\n",
      " [ 948]\n",
      " [ 949]\n",
      " [ 950]\n",
      " [ 951]\n",
      " [ 952]\n",
      " [ 953]\n",
      " [ 954]\n",
      " [ 955]\n",
      " [ 956]\n",
      " [ 957]\n",
      " [ 958]\n",
      " [ 959]\n",
      " [ 960]\n",
      " [ 961]\n",
      " [ 962]\n",
      " [ 963]\n",
      " [ 964]\n",
      " [ 965]\n",
      " [ 966]\n",
      " [ 967]\n",
      " [ 968]\n",
      " [ 969]\n",
      " [ 970]\n",
      " [ 971]\n",
      " [ 972]\n",
      " [ 973]\n",
      " [ 974]\n",
      " [ 975]\n",
      " [ 976]\n",
      " [ 977]\n",
      " [ 978]\n",
      " [ 979]\n",
      " [ 980]\n",
      " [ 981]\n",
      " [ 982]\n",
      " [ 983]\n",
      " [ 984]\n",
      " [ 985]\n",
      " [ 986]\n",
      " [ 987]\n",
      " [ 988]\n",
      " [ 989]\n",
      " [ 990]\n",
      " [ 991]\n",
      " [ 992]\n",
      " [ 993]\n",
      " [ 994]\n",
      " [ 995]\n",
      " [ 996]\n",
      " [ 997]\n",
      " [ 998]\n",
      " [ 999]\n",
      " [1000]\n",
      " [1001]\n",
      " [1002]\n",
      " [1003]\n",
      " [1004]\n",
      " [1005]\n",
      " [1006]\n",
      " [1007]\n",
      " [1008]\n",
      " [1009]\n",
      " [1010]\n",
      " [1011]\n",
      " [1012]\n",
      " [1013]\n",
      " [1014]\n",
      " [1015]\n",
      " [1016]\n",
      " [1017]\n",
      " [1018]\n",
      " [1019]\n",
      " [1020]\n",
      " [1021]\n",
      " [1022]\n",
      " [1023]\n",
      " [1024]\n",
      " [1025]\n",
      " [1026]\n",
      " [1027]\n",
      " [1028]\n",
      " [1029]\n",
      " [1030]\n",
      " [1031]\n",
      " [1032]\n",
      " [1033]\n",
      " [1034]\n",
      " [1035]\n",
      " [1036]\n",
      " [1037]\n",
      " [1038]\n",
      " [1039]\n",
      " [1040]\n",
      " [1041]\n",
      " [1042]\n",
      " [1043]\n",
      " [1044]\n",
      " [1045]\n",
      " [1046]\n",
      " [1047]\n",
      " [1048]\n",
      " [1049]\n",
      " [1050]\n",
      " [1051]\n",
      " [1052]\n",
      " [1053]\n",
      " [1054]\n",
      " [1055]\n",
      " [1056]\n",
      " [1057]\n",
      " [1058]\n",
      " [1059]\n",
      " [1060]\n",
      " [1061]\n",
      " [1062]\n",
      " [1063]\n",
      " [1064]\n",
      " [1065]\n",
      " [1066]\n",
      " [1067]\n",
      " [1068]\n",
      " [1069]\n",
      " [1070]\n",
      " [1071]\n",
      " [1072]\n",
      " [1073]\n",
      " [1074]\n",
      " [1075]\n",
      " [1076]\n",
      " [1077]\n",
      " [1078]\n",
      " [1079]\n",
      " [1080]\n",
      " [1081]\n",
      " [1082]\n",
      " [1083]\n",
      " [1084]\n",
      " [1085]\n",
      " [1086]\n",
      " [1087]\n",
      " [1088]\n",
      " [1089]\n",
      " [1090]\n",
      " [1091]\n",
      " [1092]\n",
      " [1093]\n",
      " [1094]\n",
      " [1095]\n",
      " [1096]\n",
      " [1097]\n",
      " [1098]\n",
      " [1099]\n",
      " [1100]\n",
      " [1101]\n",
      " [1102]\n",
      " [1103]\n",
      " [1104]\n",
      " [1105]\n",
      " [1106]\n",
      " [1107]\n",
      " [1108]\n",
      " [1109]\n",
      " [1110]\n",
      " [1111]\n",
      " [1112]\n",
      " [1113]\n",
      " [1114]\n",
      " [1115]\n",
      " [1116]\n",
      " [1117]\n",
      " [1118]\n",
      " [1119]\n",
      " [1120]\n",
      " [1121]\n",
      " [1122]\n",
      " [1123]\n",
      " [1124]\n",
      " [1125]\n",
      " [1126]\n",
      " [1127]\n",
      " [1128]\n",
      " [1129]\n",
      " [1130]\n",
      " [1131]\n",
      " [1132]\n",
      " [1133]\n",
      " [1134]\n",
      " [1135]\n",
      " [1136]\n",
      " [1137]\n",
      " [1138]\n",
      " [1139]\n",
      " [1140]\n",
      " [1141]\n",
      " [1142]\n",
      " [1143]\n",
      " [1144]\n",
      " [1145]\n",
      " [1146]\n",
      " [1147]\n",
      " [1148]\n",
      " [1149]\n",
      " [1150]\n",
      " [1151]\n",
      " [1152]\n",
      " [1153]\n",
      " [1154]\n",
      " [1155]\n",
      " [1156]\n",
      " [1157]\n",
      " [1158]\n",
      " [1159]\n",
      " [1160]\n",
      " [1161]\n",
      " [1162]\n",
      " [1163]\n",
      " [1164]\n",
      " [1165]\n",
      " [1166]\n",
      " [1167]\n",
      " [1168]\n",
      " [1169]\n",
      " [1170]\n",
      " [1171]\n",
      " [1172]\n",
      " [1173]\n",
      " [1174]\n",
      " [1175]\n",
      " [1176]\n",
      " [1177]\n",
      " [1178]\n",
      " [1179]\n",
      " [1180]\n",
      " [1181]\n",
      " [1182]\n",
      " [1183]\n",
      " [1184]\n",
      " [1185]\n",
      " [1186]\n",
      " [1187]\n",
      " [1188]\n",
      " [1189]\n",
      " [1190]\n",
      " [1191]\n",
      " [1192]\n",
      " [1193]\n",
      " [1194]\n",
      " [1195]\n",
      " [1196]\n",
      " [1197]\n",
      " [1198]\n",
      " [1199]\n",
      " [1200]\n",
      " [1201]\n",
      " [1202]\n",
      " [1203]\n",
      " [1204]\n",
      " [1205]\n",
      " [1206]\n",
      " [1207]\n",
      " [1208]\n",
      " [1209]\n",
      " [1210]\n",
      " [1211]\n",
      " [1212]\n",
      " [1213]\n",
      " [1214]\n",
      " [1215]\n",
      " [1216]\n",
      " [1217]\n",
      " [1218]\n",
      " [1219]\n",
      " [1220]\n",
      " [1221]\n",
      " [1222]\n",
      " [1223]\n",
      " [1224]\n",
      " [1225]\n",
      " [1226]\n",
      " [1227]\n",
      " [1228]\n",
      " [1229]\n",
      " [1230]\n",
      " [1231]\n",
      " [1232]\n",
      " [1233]\n",
      " [1234]\n",
      " [1235]\n",
      " [1236]\n",
      " [1237]\n",
      " [1238]\n",
      " [1239]\n",
      " [1240]\n",
      " [1241]\n",
      " [1242]\n",
      " [1243]\n",
      " [1244]\n",
      " [1245]\n",
      " [1246]\n",
      " [1247]\n",
      " [1248]\n",
      " [1249]\n",
      " [1250]\n",
      " [1251]\n",
      " [1252]\n",
      " [1253]\n",
      " [1254]\n",
      " [1255]\n",
      " [1256]\n",
      " [1257]\n",
      " [1258]\n",
      " [1259]\n",
      " [1260]\n",
      " [1261]\n",
      " [1262]\n",
      " [1263]\n",
      " [1264]\n",
      " [1265]\n",
      " [1266]\n",
      " [1267]\n",
      " [1268]\n",
      " [1269]\n",
      " [1270]\n",
      " [1271]\n",
      " [1272]\n",
      " [1273]\n",
      " [1274]\n",
      " [1275]\n",
      " [1276]\n",
      " [1277]\n",
      " [1278]\n",
      " [1279]\n",
      " [1280]\n",
      " [1281]\n",
      " [1282]\n",
      " [1283]\n",
      " [1284]\n",
      " [1285]\n",
      " [1286]\n",
      " [1287]\n",
      " [1288]\n",
      " [1289]\n",
      " [1290]\n",
      " [1291]\n",
      " [1292]\n",
      " [1293]\n",
      " [1294]\n",
      " [1295]\n",
      " [1296]\n",
      " [1297]\n",
      " [1298]\n",
      " [1299]\n",
      " [1300]\n",
      " [1301]\n",
      " [1302]\n",
      " [1303]\n",
      " [1304]\n",
      " [1305]\n",
      " [1306]\n",
      " [1307]\n",
      " [1308]\n",
      " [1309]]\n"
     ]
    }
   ],
   "source": [
    "id_test = test.index.get_values()\n",
    "id_test = id_test.reshape(-1, 1)\n",
    "print(id_test)"
   ]
  },
  {
   "cell_type": "code",
   "execution_count": 29,
   "metadata": {
    "colab": {
     "autoexec": {
      "startup": false,
      "wait_interval": 0
     },
     "base_uri": "https://localhost:8080/",
     "height": 35,
     "output_extras": [
      {
       "item_id": 1
      }
     ]
    },
    "colab_type": "code",
    "executionInfo": {
     "elapsed": 477,
     "status": "ok",
     "timestamp": 1520231765594,
     "user": {
      "displayName": "이경희",
      "photoUrl": "https://lh3.googleusercontent.com/a/default-user=s128",
      "userId": "108801979825041190430"
     },
     "user_tz": -540
    },
    "id": "3Bncl6YpOTFz",
    "outputId": "c845899e-0510-4e3c-ed9d-c75868344bb8"
   },
   "outputs": [
    {
     "name": "stdout",
     "output_type": "stream",
     "text": [
      "(418, 10) (418, 1)\n"
     ]
    }
   ],
   "source": [
    "print(X_test.shape, id_test.shape)"
   ]
  },
  {
   "cell_type": "code",
   "execution_count": 0,
   "metadata": {
    "colab": {
     "autoexec": {
      "startup": false,
      "wait_interval": 0
     }
    },
    "colab_type": "code",
    "id": "jQHcfPmAOU7s"
   },
   "outputs": [],
   "source": [
    "seed = 37\n",
    "input_size = X_train.shape[1] # number of features\n",
    "\n",
    "# kaggle score => 0.76076\n",
    "learning_rate = 0.001 # most common value for Adam\n",
    "epochs = 8500\n",
    "\n",
    "# kaggle score => 0.75119\n",
    "# learning_rate = 0.01\n",
    "# epochs = 18000"
   ]
  },
  {
   "cell_type": "code",
   "execution_count": 0,
   "metadata": {
    "colab": {
     "autoexec": {
      "startup": false,
      "wait_interval": 0
     }
    },
    "colab_type": "code",
    "id": "N3zAH5ZpOYmm"
   },
   "outputs": [],
   "source": [
    "graph = tf.Graph()\n",
    "with graph.as_default():\n",
    "    tf.set_random_seed(seed)\n",
    "    np.random.seed(seed)\n",
    "\n",
    "    X_input = tf.placeholder(dtype=tf.float32, shape=[None, input_size], name='X_input')\n",
    "    y_input = tf.placeholder(dtype=tf.float32, shape=[None, 1], name='y_input')\n",
    "    \n",
    "    W1 = tf.Variable(tf.random_normal(shape=[input_size, 1], seed=seed), name='W1')\n",
    "    b1 = tf.Variable(tf.random_normal(shape=[1], seed=seed), name='b1')\n",
    "    sigm = tf.nn.sigmoid(tf.add(tf.matmul(X_input, W1), b1), name='pred')\n",
    "    \n",
    "    loss = tf.reduce_mean(tf.nn.sigmoid_cross_entropy_with_logits(labels=y_input, logits=sigm, name='loss'))\n",
    "    #train_steps = tf.train.GradientDescentOptimizer(learning_rate).minimize(loss)\n",
    "    # GradientDescentOptimizer보다 AdamOptimizer이 더 점수 높게나옴\n",
    "    train_steps = tf.train.AdamOptimizer(learning_rate).minimize(loss)\n",
    "\n",
    "    pred = tf.cast(tf.greater_equal(sigm, 0.5), tf.float32, name='pred') # 1 if >= 0.5\n",
    "    acc = tf.reduce_mean(tf.cast(tf.equal(pred, y_input), tf.float32), name='acc')\n",
    "    \n",
    "    init_var = tf.global_variables_initializer()"
   ]
  },
  {
   "cell_type": "code",
   "execution_count": 0,
   "metadata": {
    "colab": {
     "autoexec": {
      "startup": false,
      "wait_interval": 0
     }
    },
    "colab_type": "code",
    "id": "m12yYs1MOa6N"
   },
   "outputs": [],
   "source": [
    "train_feed_dict = {X_input: X_train, y_input: y_train}\n",
    "dev_feed_dict = {X_input: X_dev, y_input: y_dev}\n",
    "test_feed_dict = {X_input: X_test} # no y_input since the goal is to predict it"
   ]
  },
  {
   "cell_type": "code",
   "execution_count": 33,
   "metadata": {
    "colab": {
     "autoexec": {
      "startup": false,
      "wait_interval": 0
     },
     "base_uri": "https://localhost:8080/",
     "height": 1565,
     "output_extras": [
      {
       "item_id": 57
      },
      {
       "item_id": 86
      }
     ]
    },
    "colab_type": "code",
    "executionInfo": {
     "elapsed": 39394,
     "status": "ok",
     "timestamp": 1520231806862,
     "user": {
      "displayName": "이경희",
      "photoUrl": "https://lh3.googleusercontent.com/a/default-user=s128",
      "userId": "108801979825041190430"
     },
     "user_tz": -540
    },
    "id": "VOmYACTaOciK",
    "outputId": "45e0a9e7-e1cb-4982-cd7f-f328f6f25945"
   },
   "outputs": [
    {
     "name": "stdout",
     "output_type": "stream",
     "text": [
      "step 0: loss 0.68755, train_acc 63.80%, test_acc 56.67%\n",
      "step 100: loss 0.68692, train_acc 63.92%, test_acc 57.78%\n",
      "step 200: loss 0.68660, train_acc 63.92%, test_acc 57.78%\n",
      "step 300: loss 0.68622, train_acc 64.04%, test_acc 57.78%\n",
      "step 400: loss 0.68578, train_acc 64.42%, test_acc 58.89%\n",
      "step 500: loss 0.68524, train_acc 64.54%, test_acc 58.89%\n",
      "step 600: loss 0.68448, train_acc 64.79%, test_acc 58.89%\n",
      "step 700: loss 0.68333, train_acc 65.29%, test_acc 58.89%\n",
      "step 800: loss 0.68201, train_acc 66.04%, test_acc 61.11%\n",
      "step 900: loss 0.68080, train_acc 66.29%, test_acc 61.11%\n",
      "step 1000: loss 0.67921, train_acc 66.92%, test_acc 63.33%\n",
      "step 1100: loss 0.66868, train_acc 70.66%, test_acc 70.00%\n",
      "step 1200: loss 0.66732, train_acc 70.79%, test_acc 71.11%\n",
      "step 1300: loss 0.66657, train_acc 71.04%, test_acc 71.11%\n",
      "step 1400: loss 0.66598, train_acc 71.04%, test_acc 71.11%\n",
      "step 1500: loss 0.66545, train_acc 71.41%, test_acc 71.11%\n",
      "step 1600: loss 0.66493, train_acc 71.54%, test_acc 71.11%\n",
      "step 1700: loss 0.66442, train_acc 71.66%, test_acc 71.11%\n",
      "step 1800: loss 0.66388, train_acc 71.91%, test_acc 71.11%\n",
      "step 1900: loss 0.66328, train_acc 72.16%, test_acc 71.11%\n",
      "step 2000: loss 0.66258, train_acc 72.41%, test_acc 70.00%\n",
      "step 2100: loss 0.66159, train_acc 72.91%, test_acc 68.89%\n",
      "step 2200: loss 0.65961, train_acc 73.78%, test_acc 72.22%\n",
      "step 2300: loss 0.65731, train_acc 74.66%, test_acc 72.22%\n",
      "step 2400: loss 0.65479, train_acc 76.28%, test_acc 72.22%\n",
      "step 2500: loss 0.65226, train_acc 77.03%, test_acc 70.00%\n",
      "step 2600: loss 0.65001, train_acc 77.15%, test_acc 72.22%\n",
      "step 2700: loss 0.64805, train_acc 79.28%, test_acc 74.44%\n",
      "step 2800: loss 0.64618, train_acc 80.52%, test_acc 76.67%\n",
      "step 2900: loss 0.64450, train_acc 81.02%, test_acc 80.00%\n",
      "step 3000: loss 0.64316, train_acc 81.27%, test_acc 80.00%\n",
      "step 3100: loss 0.64204, train_acc 81.27%, test_acc 78.89%\n",
      "step 3200: loss 0.64109, train_acc 81.27%, test_acc 77.78%\n",
      "step 3300: loss 0.64026, train_acc 80.90%, test_acc 77.78%\n",
      "step 3400: loss 0.63954, train_acc 80.90%, test_acc 77.78%\n",
      "step 3500: loss 0.63890, train_acc 80.77%, test_acc 77.78%\n",
      "step 3600: loss 0.63832, train_acc 80.90%, test_acc 77.78%\n",
      "step 3700: loss 0.63780, train_acc 81.15%, test_acc 78.89%\n",
      "step 3800: loss 0.63732, train_acc 81.27%, test_acc 78.89%\n",
      "step 3900: loss 0.63687, train_acc 81.40%, test_acc 78.89%\n",
      "step 4000: loss 0.63646, train_acc 81.40%, test_acc 78.89%\n",
      "step 4100: loss 0.63607, train_acc 81.15%, test_acc 78.89%\n",
      "step 4200: loss 0.63570, train_acc 81.27%, test_acc 78.89%\n",
      "step 4300: loss 0.63536, train_acc 81.40%, test_acc 80.00%\n",
      "step 4400: loss 0.63503, train_acc 81.40%, test_acc 80.00%\n",
      "step 4500: loss 0.63472, train_acc 81.40%, test_acc 80.00%\n",
      "step 4600: loss 0.63442, train_acc 81.52%, test_acc 80.00%\n",
      "step 4700: loss 0.63414, train_acc 81.52%, test_acc 80.00%\n",
      "step 4800: loss 0.63387, train_acc 81.52%, test_acc 80.00%\n",
      "step 4900: loss 0.63361, train_acc 81.52%, test_acc 80.00%\n",
      "step 5000: loss 0.63336, train_acc 81.52%, test_acc 80.00%\n",
      "step 5100: loss 0.63312, train_acc 81.52%, test_acc 80.00%\n",
      "step 5200: loss 0.63289, train_acc 81.52%, test_acc 80.00%\n",
      "step 5300: loss 0.63266, train_acc 81.52%, test_acc 80.00%\n",
      "step 5400: loss 0.63245, train_acc 81.52%, test_acc 80.00%\n",
      "step 5500: loss 0.63224, train_acc 81.52%, test_acc 80.00%\n",
      "step 5600: loss 0.63203, train_acc 81.52%, test_acc 80.00%\n",
      "step 5700: loss 0.63183, train_acc 81.52%, test_acc 80.00%\n",
      "step 5800: loss 0.63164, train_acc 81.65%, test_acc 80.00%\n",
      "step 5900: loss 0.63146, train_acc 81.52%, test_acc 80.00%\n",
      "step 6000: loss 0.63128, train_acc 81.52%, test_acc 80.00%\n",
      "step 6100: loss 0.63110, train_acc 81.52%, test_acc 80.00%\n",
      "step 6200: loss 0.63093, train_acc 81.52%, test_acc 80.00%\n",
      "step 6300: loss 0.63076, train_acc 81.52%, test_acc 80.00%\n",
      "step 6400: loss 0.63060, train_acc 81.52%, test_acc 80.00%\n",
      "step 6500: loss 0.63044, train_acc 81.52%, test_acc 80.00%\n",
      "step 6600: loss 0.63028, train_acc 81.52%, test_acc 80.00%\n",
      "step 6700: loss 0.63013, train_acc 81.52%, test_acc 80.00%\n",
      "step 6800: loss 0.62998, train_acc 81.52%, test_acc 80.00%\n",
      "step 6900: loss 0.62983, train_acc 81.65%, test_acc 80.00%\n",
      "step 7000: loss 0.62969, train_acc 81.52%, test_acc 80.00%\n",
      "step 7100: loss 0.62955, train_acc 81.52%, test_acc 80.00%\n",
      "step 7200: loss 0.62941, train_acc 81.52%, test_acc 80.00%\n",
      "step 7300: loss 0.62928, train_acc 81.52%, test_acc 80.00%\n",
      "step 7400: loss 0.62915, train_acc 81.52%, test_acc 80.00%\n",
      "step 7500: loss 0.62902, train_acc 81.65%, test_acc 80.00%\n",
      "step 7600: loss 0.62889, train_acc 81.65%, test_acc 80.00%\n",
      "step 7700: loss 0.62876, train_acc 81.65%, test_acc 80.00%\n",
      "step 7800: loss 0.62864, train_acc 81.65%, test_acc 80.00%\n",
      "step 7900: loss 0.62852, train_acc 81.77%, test_acc 80.00%\n",
      "step 8000: loss 0.62840, train_acc 81.77%, test_acc 80.00%\n",
      "step 8100: loss 0.62829, train_acc 81.90%, test_acc 80.00%\n",
      "step 8200: loss 0.62817, train_acc 82.02%, test_acc 80.00%\n",
      "step 8300: loss 0.62806, train_acc 82.15%, test_acc 80.00%\n",
      "step 8400: loss 0.62795, train_acc 82.15%, test_acc 80.00%\n",
      "step 8500: loss 0.62784, train_acc 82.15%, test_acc 80.00%\n"
     ]
    }
   ],
   "source": [
    "sess = tf.Session(graph=graph)\n",
    "sess.run(init_var)\n",
    "\n",
    "cur_loss = sess.run(loss, feed_dict=train_feed_dict)\n",
    "train_acc = sess.run(acc, feed_dict=train_feed_dict)\n",
    "test_acc = sess.run(acc, feed_dict=dev_feed_dict)\n",
    "print('step 0: loss {0:.5f}, train_acc {1:.2f}%, test_acc {2:.2f}%'.format(cur_loss, 100*train_acc, 100*test_acc))\n",
    "\n",
    "for step in range(1, epochs+1):\n",
    "    sess.run(train_steps, feed_dict=train_feed_dict)\n",
    "    cur_loss = sess.run(loss, feed_dict=train_feed_dict)\n",
    "    train_acc = sess.run(acc, feed_dict=train_feed_dict)\n",
    "    test_acc = sess.run(acc, feed_dict=dev_feed_dict)\n",
    "    \n",
    "    if step%100 != 0: # print result every 100 steps\n",
    "        continue\n",
    "    print('step {3}: loss {0:.5f}, train_acc {1:.2f}%, test_acc {2:.2f}%'.format(cur_loss, 100*train_acc, 100*test_acc, step))"
   ]
  },
  {
   "cell_type": "code",
   "execution_count": 0,
   "metadata": {
    "colab": {
     "autoexec": {
      "startup": false,
      "wait_interval": 0
     }
    },
    "colab_type": "code",
    "id": "TF99eGg8OeRe"
   },
   "outputs": [],
   "source": [
    "y_pred = sess.run(pred, feed_dict=test_feed_dict).astype(int)\n",
    "prediction = pd.DataFrame(np.concatenate([id_test, y_pred], axis=1), columns=['PassengerId', 'Survived'])\n",
    "prediction = prediction.set_index(\"PassengerId\")"
   ]
  },
  {
   "cell_type": "code",
   "execution_count": 35,
   "metadata": {
    "colab": {
     "autoexec": {
      "startup": false,
      "wait_interval": 0
     },
     "base_uri": "https://localhost:8080/",
     "height": 235,
     "output_extras": [
      {
       "item_id": 1
      }
     ]
    },
    "colab_type": "code",
    "executionInfo": {
     "elapsed": 466,
     "status": "ok",
     "timestamp": 1520231808047,
     "user": {
      "displayName": "이경희",
      "photoUrl": "https://lh3.googleusercontent.com/a/default-user=s128",
      "userId": "108801979825041190430"
     },
     "user_tz": -540
    },
    "id": "AQlMdEZCOih1",
    "outputId": "8cdb274f-048d-494b-94fe-765c75966e08"
   },
   "outputs": [
    {
     "data": {
      "text/html": [
       "<div>\n",
       "<style scoped>\n",
       "    .dataframe tbody tr th:only-of-type {\n",
       "        vertical-align: middle;\n",
       "    }\n",
       "\n",
       "    .dataframe tbody tr th {\n",
       "        vertical-align: top;\n",
       "    }\n",
       "\n",
       "    .dataframe thead th {\n",
       "        text-align: right;\n",
       "    }\n",
       "</style>\n",
       "<table border=\"1\" class=\"dataframe\">\n",
       "  <thead>\n",
       "    <tr style=\"text-align: right;\">\n",
       "      <th></th>\n",
       "      <th>Survived</th>\n",
       "    </tr>\n",
       "    <tr>\n",
       "      <th>PassengerId</th>\n",
       "      <th></th>\n",
       "    </tr>\n",
       "  </thead>\n",
       "  <tbody>\n",
       "    <tr>\n",
       "      <th>892</th>\n",
       "      <td>0</td>\n",
       "    </tr>\n",
       "    <tr>\n",
       "      <th>893</th>\n",
       "      <td>0</td>\n",
       "    </tr>\n",
       "    <tr>\n",
       "      <th>894</th>\n",
       "      <td>0</td>\n",
       "    </tr>\n",
       "    <tr>\n",
       "      <th>895</th>\n",
       "      <td>0</td>\n",
       "    </tr>\n",
       "    <tr>\n",
       "      <th>896</th>\n",
       "      <td>0</td>\n",
       "    </tr>\n",
       "  </tbody>\n",
       "</table>\n",
       "</div>"
      ],
      "text/plain": [
       "             Survived\n",
       "PassengerId          \n",
       "892                 0\n",
       "893                 0\n",
       "894                 0\n",
       "895                 0\n",
       "896                 0"
      ]
     },
     "execution_count": 35,
     "metadata": {
      "tags": []
     },
     "output_type": "execute_result"
    }
   ],
   "source": [
    "prediction.head()"
   ]
  },
  {
   "cell_type": "code",
   "execution_count": 0,
   "metadata": {
    "colab": {
     "autoexec": {
      "startup": false,
      "wait_interval": 0
     }
    },
    "colab_type": "code",
    "id": "AxVUboL2Oi4M"
   },
   "outputs": [],
   "source": [
    "from google.colab import files\n",
    "\n",
    "file_name = \"titanic-tensorflow_submission.csv\"\n",
    "prediction.to_csv(file_name)\n",
    "files.download(file_name)"
   ]
  },
  {
   "cell_type": "code",
   "execution_count": 0,
   "metadata": {
    "colab": {
     "autoexec": {
      "startup": false,
      "wait_interval": 0
     }
    },
    "colab_type": "code",
    "id": "HEDBLicb53eP"
   },
   "outputs": [],
   "source": []
  }
 ],
 "metadata": {
  "accelerator": "GPU",
  "colab": {
   "collapsed_sections": [],
   "default_view": {},
   "name": "1.titanic-tensorflow.ipynb",
   "provenance": [],
   "version": "0.3.2",
   "views": {}
  },
  "kernelspec": {
   "display_name": "Python [default]",
   "language": "python",
   "name": "python3"
  },
  "language_info": {
   "codemirror_mode": {
    "name": "ipython",
    "version": 3
   },
   "file_extension": ".py",
   "mimetype": "text/x-python",
   "name": "python",
   "nbconvert_exporter": "python",
   "pygments_lexer": "ipython3",
   "version": "3.6.4"
  }
 },
 "nbformat": 4,
 "nbformat_minor": 1
}
